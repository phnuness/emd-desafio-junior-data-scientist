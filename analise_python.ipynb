{
  "nbformat": 4,
  "nbformat_minor": 0,
  "metadata": {
    "colab": {
      "provenance": [],
      "toc_visible": true,
      "authorship_tag": "ABX9TyNt5Xx+WAJ+cyZ70+WatpPR",
      "include_colab_link": true
    },
    "kernelspec": {
      "name": "python3",
      "display_name": "Python 3"
    },
    "language_info": {
      "name": "python"
    }
  },
  "cells": [
    {
      "cell_type": "markdown",
      "metadata": {
        "id": "view-in-github",
        "colab_type": "text"
      },
      "source": [
        "<a href=\"https://colab.research.google.com/github/phnuness/emd-desafio-junior-data-scientist/blob/main/analise_python.ipynb\" target=\"_parent\"><img src=\"https://colab.research.google.com/assets/colab-badge.svg\" alt=\"Open In Colab\"/></a>"
      ]
    },
    {
      "cell_type": "markdown",
      "source": [
        "# Objetivo\n",
        "\n",
        "O objetivo deste notebook é responder as questões propostas no desafio de Cientista de Dados Jr do Escritório de Dados."
      ],
      "metadata": {
        "id": "2MKqoB2wQUva"
      }
    },
    {
      "cell_type": "code",
      "source": [
        "# Depois de muita pesquisa na internet este foi o modelo de pip o qual consegui fazer a instalação da biblioteca basedosdados e precisa ser executado 2 vezes no gogole colab\n",
        "%pip install basedosdados --use-deprecated=legacy-resolver\n"
      ],
      "metadata": {
        "id": "1iVv91F-A_Qs",
        "colab": {
          "base_uri": "https://localhost:8080/"
        },
        "outputId": "20644fe0-efef-4bab-a99f-c5037aa165ec"
      },
      "execution_count": null,
      "outputs": [
        {
          "output_type": "stream",
          "name": "stdout",
          "text": [
            "Requirement already satisfied: basedosdados in /usr/local/lib/python3.10/dist-packages (1.6.11)\n",
            "Requirement already satisfied: Jinja2==3.0.3 in /usr/local/lib/python3.10/dist-packages (from basedosdados) (3.0.3)\n",
            "Requirement already satisfied: ckanapi==4.6 in /usr/local/lib/python3.10/dist-packages (from basedosdados) (4.6)\n",
            "Requirement already satisfied: click==8.0.3 in /usr/local/lib/python3.10/dist-packages (from basedosdados) (8.0.3)\n",
            "Requirement already satisfied: google-cloud-bigquery==2.30.1 in /usr/local/lib/python3.10/dist-packages (from basedosdados) (2.30.1)\n",
            "Requirement already satisfied: google-cloud-bigquery-storage==1.1.0 in /usr/local/lib/python3.10/dist-packages (from basedosdados) (1.1.0)\n",
            "Requirement already satisfied: google-cloud-storage==1.42.3 in /usr/local/lib/python3.10/dist-packages (from basedosdados) (1.42.3)\n",
            "Requirement already satisfied: importlib-metadata<5.0.0,>=4.11.3 in /usr/local/lib/python3.10/dist-packages (from basedosdados) (4.13.0)\n",
            "Requirement already satisfied: loguru<0.7.0,>=0.6.0 in /usr/local/lib/python3.10/dist-packages (from basedosdados) (0.6.0)\n",
            "Requirement already satisfied: pandas<2.0.0,>=1.3.5 in /usr/local/lib/python3.10/dist-packages (from basedosdados) (1.5.3)\n",
            "Requirement already satisfied: pandas-gbq<0.18.0,>=0.17.4 in /usr/local/lib/python3.10/dist-packages (from basedosdados) (0.17.9)\n",
            "Requirement already satisfied: pandavro<2.0.0,>=1.6.0 in /usr/local/lib/python3.10/dist-packages (from basedosdados) (1.8.0)\n",
            "Requirement already satisfied: pyaml==20.4.0 in /usr/local/lib/python3.10/dist-packages (from basedosdados) (20.4.0)\n",
            "Requirement already satisfied: pyarrow==6.0.0 in /usr/local/lib/python3.10/dist-packages (from basedosdados) (6.0.0)\n",
            "Requirement already satisfied: ruamel.yaml==0.17.10 in /usr/local/lib/python3.10/dist-packages (from basedosdados) (0.17.10)\n",
            "Requirement already satisfied: shapely<2.0.0,>=1.6.0 in /usr/local/lib/python3.10/dist-packages (from basedosdados) (1.8.5.post1)\n",
            "Requirement already satisfied: toml<0.11.0,>=0.10.2 in /usr/local/lib/python3.10/dist-packages (from basedosdados) (0.10.2)\n",
            "Requirement already satisfied: tomlkit==0.7.0 in /usr/local/lib/python3.10/dist-packages (from basedosdados) (0.7.0)\n",
            "Requirement already satisfied: tqdm==4.50.2 in /usr/local/lib/python3.10/dist-packages (from basedosdados) (4.50.2)\n",
            "Requirement already satisfied: MarkupSafe>=2.0 in /usr/local/lib/python3.10/dist-packages (from Jinja2==3.0.3->basedosdados) (2.1.5)\n",
            "Requirement already satisfied: setuptools in /usr/local/lib/python3.10/dist-packages (from ckanapi==4.6->basedosdados) (67.7.2)\n",
            "Requirement already satisfied: docopt in /usr/local/lib/python3.10/dist-packages (from ckanapi==4.6->basedosdados) (0.6.2)\n",
            "Requirement already satisfied: requests in /usr/local/lib/python3.10/dist-packages (from ckanapi==4.6->basedosdados) (2.31.0)\n",
            "Requirement already satisfied: python-slugify>=1.0 in /usr/local/lib/python3.10/dist-packages (from ckanapi==4.6->basedosdados) (8.0.4)\n",
            "Requirement already satisfied: six<2.0,>=1.9 in /usr/local/lib/python3.10/dist-packages (from ckanapi==4.6->basedosdados) (1.16.0)\n",
            "Requirement already satisfied: grpcio<2.0dev,>=1.38.1 in /usr/local/lib/python3.10/dist-packages (from google-cloud-bigquery==2.30.1->basedosdados) (1.60.1)\n",
            "Requirement already satisfied: google-api-core[grpc]<3.0.0dev,>=1.29.0 in /usr/local/lib/python3.10/dist-packages (from google-cloud-bigquery==2.30.1->basedosdados) (2.11.1)\n",
            "Requirement already satisfied: proto-plus>=1.10.0 in /usr/local/lib/python3.10/dist-packages (from google-cloud-bigquery==2.30.1->basedosdados) (1.23.0)\n",
            "Requirement already satisfied: google-cloud-core<3.0.0dev,>=1.4.1 in /usr/local/lib/python3.10/dist-packages (from google-cloud-bigquery==2.30.1->basedosdados) (2.3.3)\n",
            "Requirement already satisfied: google-resumable-media<3.0dev,>=0.6.0 in /usr/local/lib/python3.10/dist-packages (from google-cloud-bigquery==2.30.1->basedosdados) (2.7.0)\n",
            "Requirement already satisfied: packaging>=14.3 in /usr/local/lib/python3.10/dist-packages (from google-cloud-bigquery==2.30.1->basedosdados) (23.2)\n",
            "Requirement already satisfied: protobuf>=3.12.0 in /usr/local/lib/python3.10/dist-packages (from google-cloud-bigquery==2.30.1->basedosdados) (3.20.3)\n",
            "Requirement already satisfied: python-dateutil<3.0dev,>=2.7.2 in /usr/local/lib/python3.10/dist-packages (from google-cloud-bigquery==2.30.1->basedosdados) (2.8.2)\n",
            "Requirement already satisfied: google-auth<3.0dev,>=1.25.0; python_version >= \"3.6\" in /usr/local/lib/python3.10/dist-packages (from google-cloud-storage==1.42.3->basedosdados) (2.27.0)\n",
            "Requirement already satisfied: zipp>=0.5 in /usr/local/lib/python3.10/dist-packages (from importlib-metadata<5.0.0,>=4.11.3->basedosdados) (3.17.0)\n",
            "Requirement already satisfied: pytz>=2020.1 in /usr/local/lib/python3.10/dist-packages (from pandas<2.0.0,>=1.3.5->basedosdados) (2023.4)\n",
            "Requirement already satisfied: numpy>=1.21.0; python_version >= \"3.10\" in /usr/local/lib/python3.10/dist-packages (from pandas<2.0.0,>=1.3.5->basedosdados) (1.25.2)\n",
            "Requirement already satisfied: db-dtypes<2.0.0,>=0.3.1 in /usr/local/lib/python3.10/dist-packages (from pandas-gbq<0.18.0,>=0.17.4->basedosdados) (1.2.0)\n",
            "Requirement already satisfied: pydata-google-auth in /usr/local/lib/python3.10/dist-packages (from pandas-gbq<0.18.0,>=0.17.4->basedosdados) (1.8.2)\n",
            "Requirement already satisfied: google-auth-oauthlib>=0.0.1 in /usr/local/lib/python3.10/dist-packages (from pandas-gbq<0.18.0,>=0.17.4->basedosdados) (1.2.0)\n",
            "Requirement already satisfied: fastavro<2.0.0,>=1.5.1 in /usr/local/lib/python3.10/dist-packages (from pandavro<2.0.0,>=1.6.0->basedosdados) (1.9.4)\n",
            "Requirement already satisfied: PyYAML in /usr/local/lib/python3.10/dist-packages (from pyaml==20.4.0->basedosdados) (6.0.1)\n",
            "Requirement already satisfied: charset-normalizer<4,>=2 in /usr/local/lib/python3.10/dist-packages (from requests->ckanapi==4.6->basedosdados) (3.3.2)\n",
            "Requirement already satisfied: idna<4,>=2.5 in /usr/local/lib/python3.10/dist-packages (from requests->ckanapi==4.6->basedosdados) (3.6)\n",
            "Requirement already satisfied: urllib3<3,>=1.21.1 in /usr/local/lib/python3.10/dist-packages (from requests->ckanapi==4.6->basedosdados) (2.0.7)\n",
            "Requirement already satisfied: certifi>=2017.4.17 in /usr/local/lib/python3.10/dist-packages (from requests->ckanapi==4.6->basedosdados) (2024.2.2)\n",
            "Requirement already satisfied: text-unidecode>=1.3 in /usr/local/lib/python3.10/dist-packages (from python-slugify>=1.0->ckanapi==4.6->basedosdados) (1.3)\n",
            "Requirement already satisfied: googleapis-common-protos<2.0.dev0,>=1.56.2 in /usr/local/lib/python3.10/dist-packages (from google-api-core[grpc]<3.0.0dev,>=1.29.0->google-cloud-bigquery==2.30.1->basedosdados) (1.62.0)\n",
            "Requirement already satisfied: grpcio-status<2.0.dev0,>=1.33.2; extra == \"grpc\" in /usr/local/lib/python3.10/dist-packages (from google-api-core[grpc]<3.0.0dev,>=1.29.0->google-cloud-bigquery==2.30.1->basedosdados) (1.48.2)\n",
            "Requirement already satisfied: google-crc32c<2.0dev,>=1.0 in /usr/local/lib/python3.10/dist-packages (from google-resumable-media<3.0dev,>=0.6.0->google-cloud-bigquery==2.30.1->basedosdados) (1.5.0)\n",
            "Requirement already satisfied: cachetools<6.0,>=2.0.0 in /usr/local/lib/python3.10/dist-packages (from google-auth<3.0dev,>=1.25.0; python_version >= \"3.6\"->google-cloud-storage==1.42.3->basedosdados) (5.3.2)\n",
            "Requirement already satisfied: pyasn1-modules>=0.2.1 in /usr/local/lib/python3.10/dist-packages (from google-auth<3.0dev,>=1.25.0; python_version >= \"3.6\"->google-cloud-storage==1.42.3->basedosdados) (0.3.0)\n",
            "Requirement already satisfied: rsa<5,>=3.1.4 in /usr/local/lib/python3.10/dist-packages (from google-auth<3.0dev,>=1.25.0; python_version >= \"3.6\"->google-cloud-storage==1.42.3->basedosdados) (4.9)\n",
            "Requirement already satisfied: requests-oauthlib>=0.7.0 in /usr/local/lib/python3.10/dist-packages (from google-auth-oauthlib>=0.0.1->pandas-gbq<0.18.0,>=0.17.4->basedosdados) (1.3.1)\n",
            "Requirement already satisfied: pyasn1<0.6.0,>=0.4.6 in /usr/local/lib/python3.10/dist-packages (from pyasn1-modules>=0.2.1->google-auth<3.0dev,>=1.25.0; python_version >= \"3.6\"->google-cloud-storage==1.42.3->basedosdados) (0.5.1)\n",
            "Requirement already satisfied: oauthlib>=3.0.0 in /usr/local/lib/python3.10/dist-packages (from requests-oauthlib>=0.7.0->google-auth-oauthlib>=0.0.1->pandas-gbq<0.18.0,>=0.17.4->basedosdados) (3.2.2)\n"
          ]
        }
      ]
    },
    {
      "cell_type": "code",
      "source": [
        "# Importando a biblioteca e o pandas\n",
        "import basedosdados as bd\n",
        "import pandas as pd"
      ],
      "metadata": {
        "id": "GgEeILCVBbkh"
      },
      "execution_count": null,
      "outputs": []
    },
    {
      "cell_type": "markdown",
      "source": [
        "# Questões propostas e resolução\n",
        "\n",
        "Nesta seção podemos verificar as respostas para cada questão do desafio e a forma como a mesma foi encontrada."
      ],
      "metadata": {
        "id": "YLrt3v2cRM9q"
      }
    },
    {
      "cell_type": "code",
      "source": [
        "# Realizando a query na tabela de chamados para criar o dataframe\n",
        "query = '''\n",
        "\n",
        "SELECT\n",
        "  id_chamado, data_inicio, data_fim, id_bairro, tipo, subtipo\n",
        "FROM\n",
        "  `datario.administracao_servicos_publicos.chamado_1746`\n",
        "\n",
        "'''\n",
        "df_chamados = bd.read_sql(query, billing_project_id=\"cellular-tide-414417\")"
      ],
      "metadata": {
        "colab": {
          "base_uri": "https://localhost:8080/"
        },
        "id": "fN6x0zDXPmeg",
        "outputId": "6621d5f9-b7f7-43b0-f0f4-0aaee58a7535"
      },
      "execution_count": null,
      "outputs": [
        {
          "output_type": "stream",
          "name": "stderr",
          "text": [
            "Downloading: 100%|██████████| 10742832/10742832 [16:28<00:00, 10870.12rows/s]\n"
          ]
        }
      ]
    },
    {
      "cell_type": "markdown",
      "source": [
        "1. Quantos chamados foram abertos no dia 01/04/2023?"
      ],
      "metadata": {
        "id": "0SsdA5G_niF7"
      }
    },
    {
      "cell_type": "code",
      "source": [
        "# Filtrando a quantidade de chamados abertos na data 01/04/2023\n",
        "questao_1 = len(df_chamados.loc[(df_chamados.data_inicio >= '2023-04-01') & (df_chamados.data_inicio < '2023-04-02')])\n",
        "\n",
        "print(f'No dia 01/04/2023, foram abertos um total de {questao_1} chamados.')"
      ],
      "metadata": {
        "colab": {
          "base_uri": "https://localhost:8080/"
        },
        "id": "lf877OuF9ZrC",
        "outputId": "3ddc544a-a494-4bba-b80c-36eb36463483"
      },
      "execution_count": null,
      "outputs": [
        {
          "output_type": "stream",
          "name": "stdout",
          "text": [
            "No dia 01/04/2023, foram abertos um total de 73 chamados.\n"
          ]
        }
      ]
    },
    {
      "cell_type": "markdown",
      "source": [
        "2. Qual o tipo de chamado que teve mais reclamações no dia 01/04/2023?"
      ],
      "metadata": {
        "id": "SeQ1JsEqBVDo"
      }
    },
    {
      "cell_type": "code",
      "source": [
        "# Filtrando a coluna tipo para identificar o tipo com mais reclamações no dia 01/04/2023\n",
        "questao_2 = df_chamados['tipo'].loc[(df_chamados.data_inicio >= '2023-04-01') & (df_chamados.data_inicio < '2023-04-02')].value_counts().head(1)\n",
        "\n",
        "# Imprimindo o índice junto com o valor\n",
        "for index, value in questao_2.iteritems():\n",
        "    print(f\" No dia 01/04/2023 o tipo de chamado que teve mais reclamações foi {index} com {value} chamados.\")"
      ],
      "metadata": {
        "id": "wsSFBCsTATxF",
        "colab": {
          "base_uri": "https://localhost:8080/"
        },
        "outputId": "88c6939f-da22-424b-a64a-ade79d70c907"
      },
      "execution_count": null,
      "outputs": [
        {
          "output_type": "stream",
          "name": "stdout",
          "text": [
            " No dia 01/04/2023 o tipo de chamado que teve mais reclamações foi Poluição sonora com 24 chamados.\n"
          ]
        }
      ]
    },
    {
      "cell_type": "markdown",
      "source": [
        "3. Quais os nomes dos 3 bairros que mais tiveram chamados abertos nesse dia?"
      ],
      "metadata": {
        "id": "ZNkUJ8TXBXnh"
      }
    },
    {
      "cell_type": "code",
      "source": [
        "# Realizando a query na tabela de bairros para criar o dataframe\n",
        "query2 = '''\n",
        "\n",
        "SELECT\n",
        "   id_bairro, subprefeitura, nome as nome_bairro\n",
        "FROM\n",
        "  `datario.dados_mestres.bairro`\n",
        "\n",
        "'''\n",
        "df_bairros = bd.read_sql(query2, billing_project_id=\"cellular-tide-414417\")"
      ],
      "metadata": {
        "id": "T11Hr7xBKzI0",
        "colab": {
          "base_uri": "https://localhost:8080/"
        },
        "outputId": "c5b5b4f4-54fd-47ff-b6f1-523e695c18b2"
      },
      "execution_count": null,
      "outputs": [
        {
          "output_type": "stream",
          "name": "stderr",
          "text": [
            "Downloading: 100%|██████████| 164/164 [00:00<00:00, 547.69rows/s]\n"
          ]
        }
      ]
    },
    {
      "cell_type": "code",
      "source": [
        "# Criando um dataframe com o join entre as tabelas chamado e bairro\n",
        "df_chamados_bairros = df_chamados[['id_chamado','data_inicio','id_bairro']].merge(df_bairros[['id_bairro', 'nome_bairro', 'subprefeitura']],\n",
        "                                                                  how='left', on='id_bairro')"
      ],
      "metadata": {
        "id": "5IjBZd-CO5gk"
      },
      "execution_count": null,
      "outputs": []
    },
    {
      "cell_type": "code",
      "source": [
        "# Filtrando a coluna nome_bairro para identificar o bairro com mais reclamações no dia 01/04/2023\n",
        "questao_3 = df_chamados_bairros['nome_bairro'].loc[(df_chamados_bairros.data_inicio >= '2023-04-01') &\n",
        "            (df_chamados_bairros.data_inicio < '2023-04-02')].value_counts().head(3)\n",
        "\n",
        "# Imprimindo o DataFrame com formatação\n",
        "print(\"Top 3 bairros com mais chamados no dia 01/04/2023:\")\n",
        "for index, value in questao_3.iteritems():\n",
        "    print(f\"{index}: {value} chamados\")\n"
      ],
      "metadata": {
        "id": "es8TI9wxMq3U",
        "colab": {
          "base_uri": "https://localhost:8080/"
        },
        "outputId": "f5b47b8c-a975-4c79-ec21-cafbbbc0bce2"
      },
      "execution_count": null,
      "outputs": [
        {
          "output_type": "stream",
          "name": "stdout",
          "text": [
            "Top 3 bairros com mais chamados no dia 01/04/2023:\n",
            "Engenho de Dentro: 8 chamados\n",
            "Campo Grande: 6 chamados\n",
            "Leblon: 6 chamados\n"
          ]
        }
      ]
    },
    {
      "cell_type": "markdown",
      "source": [
        "4. Qual o nome da subprefeitura com mais chamados abertos nesse dia?"
      ],
      "metadata": {
        "id": "EY7Whb8ZBbuy"
      }
    },
    {
      "cell_type": "code",
      "source": [
        "# Filtrando a coluna subprefeitura para identificar a subprefeitura com mais reclamações no dia 01/04/2023\n",
        "questao_4 = df_chamados_bairros['subprefeitura'].loc[(df_chamados_bairros.data_inicio >= '2023-04-01') &\n",
        " (df_chamados_bairros.data_inicio < '2023-04-02')].value_counts().head(1)\n",
        "\n",
        "# Imprimindo o índice junto com o valor\n",
        "for index, value in questao_4.iteritems():\n",
        "    print(f\" O nome da subprefeitura com mais chamados abertos nesse dia foi {index} com {value} chamados.\")"
      ],
      "metadata": {
        "id": "X9TInw0mBgm5",
        "colab": {
          "base_uri": "https://localhost:8080/"
        },
        "outputId": "45c3cee5-00fe-45a3-ed6f-b23f08ba216c"
      },
      "execution_count": null,
      "outputs": [
        {
          "output_type": "stream",
          "name": "stdout",
          "text": [
            " O nome da subprefeitura com mais chamados abertos nesse dia foi Zona Norte com 25 chamados.\n"
          ]
        }
      ]
    },
    {
      "cell_type": "markdown",
      "source": [
        "5. Existe algum chamado aberto nesse dia que não foi associado a um bairro ou   subprefeitura na tabela de bairros? Se sim, por que isso acontece?"
      ],
      "metadata": {
        "id": "VWkRC_-RBg9t"
      }
    },
    {
      "cell_type": "code",
      "source": [
        "# Filtrando o df2 para identificar a se existe algum chamado aberto sem bairro ou subprefeitura definido\n",
        "questao_5 = df_chamados_bairros.loc[(df_chamados_bairros.data_inicio >= '2023-04-01') &\n",
        "            (df_chamados_bairros.data_inicio < '2023-04-02') & (df_chamados_bairros.id_bairro.isnull())]\n",
        "print('Sim, este fenômeno acontece por motivos de dados ausentes ou não informados (null)\\n\\n', questao_5)"
      ],
      "metadata": {
        "id": "gkKkyUIoBn8G",
        "colab": {
          "base_uri": "https://localhost:8080/"
        },
        "outputId": "a1dc600a-1235-49ec-b92d-291cab167c07"
      },
      "execution_count": null,
      "outputs": [
        {
          "output_type": "stream",
          "name": "stdout",
          "text": [
            "Sim, este fenômeno acontece por motivos de dados ausentes ou não informados (null)\n",
            "\n",
            "         id_chamado         data_inicio id_bairro nome_bairro subprefeitura\n",
            "6493241   18516246 2023-04-01 00:55:38      None         NaN           NaN\n"
          ]
        }
      ]
    },
    {
      "cell_type": "markdown",
      "source": [
        "6. Quantos chamados com o subtipo \"Perturbação do sossego\" foram abertos desde 01/01/2022 até 31/12/2023 (incluindo extremidades)?"
      ],
      "metadata": {
        "id": "PN5-WEYsBpX6"
      }
    },
    {
      "cell_type": "code",
      "source": [
        "# Filtrando o df para identificar a quantidade de chamados com o subtipo 'Perturbação do sossego'\n",
        "questao_6 = df_chamados['subtipo'].loc[(df_chamados.data_inicio >= '2022-01-01') &\n",
        " (df_chamados.data_inicio <= '2023-12-31') & (df_chamados.subtipo == 'Perturbação do sossego')].count()\n",
        "\n",
        "print(f\"Entre 01/01/2022 e 31/12/2023 foram abertos {questao_6} chamados com o subtipo Perturbação do sossego\")"
      ],
      "metadata": {
        "id": "jOe68k-4Bt_b",
        "colab": {
          "base_uri": "https://localhost:8080/"
        },
        "outputId": "a86ba968-985f-499b-c7f5-dbc798ba1c36"
      },
      "execution_count": null,
      "outputs": [
        {
          "output_type": "stream",
          "name": "stdout",
          "text": [
            "Entre 01/01/2022 e 31/12/2023 foram abertos 42408 chamados com o subtipo Perturbação do sossego\n"
          ]
        }
      ]
    },
    {
      "cell_type": "markdown",
      "source": [
        "7. Selecione os chamados com esse subtipo que foram abertos durante os eventos contidos na tabela de eventos (Reveillon, Carnaval e Rock in Rio)."
      ],
      "metadata": {
        "id": "UzWUwaH5BuYd"
      }
    },
    {
      "cell_type": "code",
      "source": [
        "# Realizando a query na tabela de eventos para criar o dataframe\n",
        "query3 = '''\n",
        "\n",
        "SELECT\n",
        "  *\n",
        "FROM\n",
        "  `datario.turismo_fluxo_visitantes.rede_hoteleira_ocupacao_eventos`\n",
        "\n",
        "'''\n",
        "df_eventos = bd.read_sql(query3, billing_project_id=\"cellular-tide-414417\")"
      ],
      "metadata": {
        "id": "hahXcbQOBxa8",
        "colab": {
          "base_uri": "https://localhost:8080/"
        },
        "outputId": "44583273-0651-4213-bc21-dbdf9d07d721"
      },
      "execution_count": null,
      "outputs": [
        {
          "output_type": "stream",
          "name": "stderr",
          "text": [
            "Downloading: 100%|██████████| 4/4 [00:00<00:00, 16.02rows/s]\n"
          ]
        }
      ]
    },
    {
      "cell_type": "code",
      "source": [
        "# Convertando as colunas data_inicial e data_final do df de eventos para datetime\n",
        "df_eventos['data_inicial'] = pd.to_datetime(df_eventos['data_inicial'])\n",
        "df_eventos['data_final'] = pd.to_datetime(df_eventos['data_final'])"
      ],
      "metadata": {
        "id": "qJskXoJyHMNF"
      },
      "execution_count": null,
      "outputs": []
    },
    {
      "cell_type": "code",
      "source": [
        "# Selecionando os chamados com subtipo \"Perturbação do sossego\"\n",
        "df_chamados_perturbacao = df_chamados[df_chamados['subtipo'] == 'Perturbação do sossego']"
      ],
      "metadata": {
        "id": "UITxn1h-XdI_"
      },
      "execution_count": null,
      "outputs": []
    },
    {
      "cell_type": "code",
      "source": [
        "# Função que verifica se a data de início do chamado está dentro do intervalo de algum dos eventos\n",
        "def get_evento(data_inicio):\n",
        "    eventos = df_eventos[(data_inicio >= df_eventos['data_inicial']) & (data_inicio <= df_eventos['data_final'])]\n",
        "    if len(eventos) > 0:\n",
        "        return eventos.iloc[0]['evento']\n",
        "    else:\n",
        "        return None\n",
        "\n",
        "# Criando a nova coluna \"evento\" no dataframe df_chamados\n",
        "df_chamados_perturbacao['evento'] = df_chamados_perturbacao['data_inicio'].apply(get_evento)\n",
        "\n",
        "# Apresentando a seleção de chamados\n",
        "df_chamados_perturbacao = df_chamados_perturbacao.loc[~df_chamados_perturbacao.evento.isna()]\n",
        "df_chamados_perturbacao"
      ],
      "metadata": {
        "id": "TA1mtOcCXle3",
        "colab": {
          "base_uri": "https://localhost:8080/",
          "height": 424
        },
        "outputId": "e737892e-6a82-4021-9f1d-c105e11f6c1d"
      },
      "execution_count": null,
      "outputs": [
        {
          "output_type": "execute_result",
          "data": {
            "text/plain": [
              "         id_chamado         data_inicio            data_fim id_bairro  \\\n",
              "99045      18333135 2023-02-20 22:36:03 2023-02-24 08:06:30       121   \n",
              "99461      18332881 2023-02-20 19:06:17 2023-02-24 07:44:14       115   \n",
              "99462      18329965 2023-02-19 08:35:48 2023-02-27 08:50:45       128   \n",
              "99809      18331227 2023-02-19 23:05:17 2023-02-28 09:47:50        14   \n",
              "99892      17678478 2022-09-08 22:05:13 2022-09-16 10:49:16        88   \n",
              "...             ...                 ...                 ...       ...   \n",
              "10577986   17661846 2022-09-03 05:36:19 2022-09-11 08:23:44        14   \n",
              "10577987   17682500 2022-09-09 22:23:40 2022-09-17 10:37:39        20   \n",
              "10577993   17678512 2022-09-08 22:45:08 2022-09-09 05:09:59        27   \n",
              "10578210   17663444 2022-09-03 22:14:37 2022-09-11 09:52:09        24   \n",
              "10578305   17682422 2022-09-09 21:21:54 2022-09-17 11:07:10        25   \n",
              "\n",
              "                     tipo                 subtipo       evento  \n",
              "99045     Poluição sonora  Perturbação do sossego     Carnaval  \n",
              "99461     Poluição sonora  Perturbação do sossego     Carnaval  \n",
              "99462     Poluição sonora  Perturbação do sossego     Carnaval  \n",
              "99809     Poluição sonora  Perturbação do sossego     Carnaval  \n",
              "99892     Poluição sonora  Perturbação do sossego  Rock in Rio  \n",
              "...                   ...                     ...          ...  \n",
              "10577986  Poluição sonora  Perturbação do sossego  Rock in Rio  \n",
              "10577987  Poluição sonora  Perturbação do sossego  Rock in Rio  \n",
              "10577993  Poluição sonora  Perturbação do sossego  Rock in Rio  \n",
              "10578210  Poluição sonora  Perturbação do sossego  Rock in Rio  \n",
              "10578305  Poluição sonora  Perturbação do sossego  Rock in Rio  \n",
              "\n",
              "[794 rows x 7 columns]"
            ],
            "text/html": [
              "\n",
              "  <div id=\"df-2c929e07-3fa0-41db-bacb-a6fb5778155e\" class=\"colab-df-container\">\n",
              "    <div>\n",
              "<style scoped>\n",
              "    .dataframe tbody tr th:only-of-type {\n",
              "        vertical-align: middle;\n",
              "    }\n",
              "\n",
              "    .dataframe tbody tr th {\n",
              "        vertical-align: top;\n",
              "    }\n",
              "\n",
              "    .dataframe thead th {\n",
              "        text-align: right;\n",
              "    }\n",
              "</style>\n",
              "<table border=\"1\" class=\"dataframe\">\n",
              "  <thead>\n",
              "    <tr style=\"text-align: right;\">\n",
              "      <th></th>\n",
              "      <th>id_chamado</th>\n",
              "      <th>data_inicio</th>\n",
              "      <th>data_fim</th>\n",
              "      <th>id_bairro</th>\n",
              "      <th>tipo</th>\n",
              "      <th>subtipo</th>\n",
              "      <th>evento</th>\n",
              "    </tr>\n",
              "  </thead>\n",
              "  <tbody>\n",
              "    <tr>\n",
              "      <th>99045</th>\n",
              "      <td>18333135</td>\n",
              "      <td>2023-02-20 22:36:03</td>\n",
              "      <td>2023-02-24 08:06:30</td>\n",
              "      <td>121</td>\n",
              "      <td>Poluição sonora</td>\n",
              "      <td>Perturbação do sossego</td>\n",
              "      <td>Carnaval</td>\n",
              "    </tr>\n",
              "    <tr>\n",
              "      <th>99461</th>\n",
              "      <td>18332881</td>\n",
              "      <td>2023-02-20 19:06:17</td>\n",
              "      <td>2023-02-24 07:44:14</td>\n",
              "      <td>115</td>\n",
              "      <td>Poluição sonora</td>\n",
              "      <td>Perturbação do sossego</td>\n",
              "      <td>Carnaval</td>\n",
              "    </tr>\n",
              "    <tr>\n",
              "      <th>99462</th>\n",
              "      <td>18329965</td>\n",
              "      <td>2023-02-19 08:35:48</td>\n",
              "      <td>2023-02-27 08:50:45</td>\n",
              "      <td>128</td>\n",
              "      <td>Poluição sonora</td>\n",
              "      <td>Perturbação do sossego</td>\n",
              "      <td>Carnaval</td>\n",
              "    </tr>\n",
              "    <tr>\n",
              "      <th>99809</th>\n",
              "      <td>18331227</td>\n",
              "      <td>2023-02-19 23:05:17</td>\n",
              "      <td>2023-02-28 09:47:50</td>\n",
              "      <td>14</td>\n",
              "      <td>Poluição sonora</td>\n",
              "      <td>Perturbação do sossego</td>\n",
              "      <td>Carnaval</td>\n",
              "    </tr>\n",
              "    <tr>\n",
              "      <th>99892</th>\n",
              "      <td>17678478</td>\n",
              "      <td>2022-09-08 22:05:13</td>\n",
              "      <td>2022-09-16 10:49:16</td>\n",
              "      <td>88</td>\n",
              "      <td>Poluição sonora</td>\n",
              "      <td>Perturbação do sossego</td>\n",
              "      <td>Rock in Rio</td>\n",
              "    </tr>\n",
              "    <tr>\n",
              "      <th>...</th>\n",
              "      <td>...</td>\n",
              "      <td>...</td>\n",
              "      <td>...</td>\n",
              "      <td>...</td>\n",
              "      <td>...</td>\n",
              "      <td>...</td>\n",
              "      <td>...</td>\n",
              "    </tr>\n",
              "    <tr>\n",
              "      <th>10577986</th>\n",
              "      <td>17661846</td>\n",
              "      <td>2022-09-03 05:36:19</td>\n",
              "      <td>2022-09-11 08:23:44</td>\n",
              "      <td>14</td>\n",
              "      <td>Poluição sonora</td>\n",
              "      <td>Perturbação do sossego</td>\n",
              "      <td>Rock in Rio</td>\n",
              "    </tr>\n",
              "    <tr>\n",
              "      <th>10577987</th>\n",
              "      <td>17682500</td>\n",
              "      <td>2022-09-09 22:23:40</td>\n",
              "      <td>2022-09-17 10:37:39</td>\n",
              "      <td>20</td>\n",
              "      <td>Poluição sonora</td>\n",
              "      <td>Perturbação do sossego</td>\n",
              "      <td>Rock in Rio</td>\n",
              "    </tr>\n",
              "    <tr>\n",
              "      <th>10577993</th>\n",
              "      <td>17678512</td>\n",
              "      <td>2022-09-08 22:45:08</td>\n",
              "      <td>2022-09-09 05:09:59</td>\n",
              "      <td>27</td>\n",
              "      <td>Poluição sonora</td>\n",
              "      <td>Perturbação do sossego</td>\n",
              "      <td>Rock in Rio</td>\n",
              "    </tr>\n",
              "    <tr>\n",
              "      <th>10578210</th>\n",
              "      <td>17663444</td>\n",
              "      <td>2022-09-03 22:14:37</td>\n",
              "      <td>2022-09-11 09:52:09</td>\n",
              "      <td>24</td>\n",
              "      <td>Poluição sonora</td>\n",
              "      <td>Perturbação do sossego</td>\n",
              "      <td>Rock in Rio</td>\n",
              "    </tr>\n",
              "    <tr>\n",
              "      <th>10578305</th>\n",
              "      <td>17682422</td>\n",
              "      <td>2022-09-09 21:21:54</td>\n",
              "      <td>2022-09-17 11:07:10</td>\n",
              "      <td>25</td>\n",
              "      <td>Poluição sonora</td>\n",
              "      <td>Perturbação do sossego</td>\n",
              "      <td>Rock in Rio</td>\n",
              "    </tr>\n",
              "  </tbody>\n",
              "</table>\n",
              "<p>794 rows × 7 columns</p>\n",
              "</div>\n",
              "    <div class=\"colab-df-buttons\">\n",
              "\n",
              "  <div class=\"colab-df-container\">\n",
              "    <button class=\"colab-df-convert\" onclick=\"convertToInteractive('df-2c929e07-3fa0-41db-bacb-a6fb5778155e')\"\n",
              "            title=\"Convert this dataframe to an interactive table.\"\n",
              "            style=\"display:none;\">\n",
              "\n",
              "  <svg xmlns=\"http://www.w3.org/2000/svg\" height=\"24px\" viewBox=\"0 -960 960 960\">\n",
              "    <path d=\"M120-120v-720h720v720H120Zm60-500h600v-160H180v160Zm220 220h160v-160H400v160Zm0 220h160v-160H400v160ZM180-400h160v-160H180v160Zm440 0h160v-160H620v160ZM180-180h160v-160H180v160Zm440 0h160v-160H620v160Z\"/>\n",
              "  </svg>\n",
              "    </button>\n",
              "\n",
              "  <style>\n",
              "    .colab-df-container {\n",
              "      display:flex;\n",
              "      gap: 12px;\n",
              "    }\n",
              "\n",
              "    .colab-df-convert {\n",
              "      background-color: #E8F0FE;\n",
              "      border: none;\n",
              "      border-radius: 50%;\n",
              "      cursor: pointer;\n",
              "      display: none;\n",
              "      fill: #1967D2;\n",
              "      height: 32px;\n",
              "      padding: 0 0 0 0;\n",
              "      width: 32px;\n",
              "    }\n",
              "\n",
              "    .colab-df-convert:hover {\n",
              "      background-color: #E2EBFA;\n",
              "      box-shadow: 0px 1px 2px rgba(60, 64, 67, 0.3), 0px 1px 3px 1px rgba(60, 64, 67, 0.15);\n",
              "      fill: #174EA6;\n",
              "    }\n",
              "\n",
              "    .colab-df-buttons div {\n",
              "      margin-bottom: 4px;\n",
              "    }\n",
              "\n",
              "    [theme=dark] .colab-df-convert {\n",
              "      background-color: #3B4455;\n",
              "      fill: #D2E3FC;\n",
              "    }\n",
              "\n",
              "    [theme=dark] .colab-df-convert:hover {\n",
              "      background-color: #434B5C;\n",
              "      box-shadow: 0px 1px 3px 1px rgba(0, 0, 0, 0.15);\n",
              "      filter: drop-shadow(0px 1px 2px rgba(0, 0, 0, 0.3));\n",
              "      fill: #FFFFFF;\n",
              "    }\n",
              "  </style>\n",
              "\n",
              "    <script>\n",
              "      const buttonEl =\n",
              "        document.querySelector('#df-2c929e07-3fa0-41db-bacb-a6fb5778155e button.colab-df-convert');\n",
              "      buttonEl.style.display =\n",
              "        google.colab.kernel.accessAllowed ? 'block' : 'none';\n",
              "\n",
              "      async function convertToInteractive(key) {\n",
              "        const element = document.querySelector('#df-2c929e07-3fa0-41db-bacb-a6fb5778155e');\n",
              "        const dataTable =\n",
              "          await google.colab.kernel.invokeFunction('convertToInteractive',\n",
              "                                                    [key], {});\n",
              "        if (!dataTable) return;\n",
              "\n",
              "        const docLinkHtml = 'Like what you see? Visit the ' +\n",
              "          '<a target=\"_blank\" href=https://colab.research.google.com/notebooks/data_table.ipynb>data table notebook</a>'\n",
              "          + ' to learn more about interactive tables.';\n",
              "        element.innerHTML = '';\n",
              "        dataTable['output_type'] = 'display_data';\n",
              "        await google.colab.output.renderOutput(dataTable, element);\n",
              "        const docLink = document.createElement('div');\n",
              "        docLink.innerHTML = docLinkHtml;\n",
              "        element.appendChild(docLink);\n",
              "      }\n",
              "    </script>\n",
              "  </div>\n",
              "\n",
              "\n",
              "<div id=\"df-ceff4415-0055-4752-9b12-b728e3cec593\">\n",
              "  <button class=\"colab-df-quickchart\" onclick=\"quickchart('df-ceff4415-0055-4752-9b12-b728e3cec593')\"\n",
              "            title=\"Suggest charts\"\n",
              "            style=\"display:none;\">\n",
              "\n",
              "<svg xmlns=\"http://www.w3.org/2000/svg\" height=\"24px\"viewBox=\"0 0 24 24\"\n",
              "     width=\"24px\">\n",
              "    <g>\n",
              "        <path d=\"M19 3H5c-1.1 0-2 .9-2 2v14c0 1.1.9 2 2 2h14c1.1 0 2-.9 2-2V5c0-1.1-.9-2-2-2zM9 17H7v-7h2v7zm4 0h-2V7h2v10zm4 0h-2v-4h2v4z\"/>\n",
              "    </g>\n",
              "</svg>\n",
              "  </button>\n",
              "\n",
              "<style>\n",
              "  .colab-df-quickchart {\n",
              "      --bg-color: #E8F0FE;\n",
              "      --fill-color: #1967D2;\n",
              "      --hover-bg-color: #E2EBFA;\n",
              "      --hover-fill-color: #174EA6;\n",
              "      --disabled-fill-color: #AAA;\n",
              "      --disabled-bg-color: #DDD;\n",
              "  }\n",
              "\n",
              "  [theme=dark] .colab-df-quickchart {\n",
              "      --bg-color: #3B4455;\n",
              "      --fill-color: #D2E3FC;\n",
              "      --hover-bg-color: #434B5C;\n",
              "      --hover-fill-color: #FFFFFF;\n",
              "      --disabled-bg-color: #3B4455;\n",
              "      --disabled-fill-color: #666;\n",
              "  }\n",
              "\n",
              "  .colab-df-quickchart {\n",
              "    background-color: var(--bg-color);\n",
              "    border: none;\n",
              "    border-radius: 50%;\n",
              "    cursor: pointer;\n",
              "    display: none;\n",
              "    fill: var(--fill-color);\n",
              "    height: 32px;\n",
              "    padding: 0;\n",
              "    width: 32px;\n",
              "  }\n",
              "\n",
              "  .colab-df-quickchart:hover {\n",
              "    background-color: var(--hover-bg-color);\n",
              "    box-shadow: 0 1px 2px rgba(60, 64, 67, 0.3), 0 1px 3px 1px rgba(60, 64, 67, 0.15);\n",
              "    fill: var(--button-hover-fill-color);\n",
              "  }\n",
              "\n",
              "  .colab-df-quickchart-complete:disabled,\n",
              "  .colab-df-quickchart-complete:disabled:hover {\n",
              "    background-color: var(--disabled-bg-color);\n",
              "    fill: var(--disabled-fill-color);\n",
              "    box-shadow: none;\n",
              "  }\n",
              "\n",
              "  .colab-df-spinner {\n",
              "    border: 2px solid var(--fill-color);\n",
              "    border-color: transparent;\n",
              "    border-bottom-color: var(--fill-color);\n",
              "    animation:\n",
              "      spin 1s steps(1) infinite;\n",
              "  }\n",
              "\n",
              "  @keyframes spin {\n",
              "    0% {\n",
              "      border-color: transparent;\n",
              "      border-bottom-color: var(--fill-color);\n",
              "      border-left-color: var(--fill-color);\n",
              "    }\n",
              "    20% {\n",
              "      border-color: transparent;\n",
              "      border-left-color: var(--fill-color);\n",
              "      border-top-color: var(--fill-color);\n",
              "    }\n",
              "    30% {\n",
              "      border-color: transparent;\n",
              "      border-left-color: var(--fill-color);\n",
              "      border-top-color: var(--fill-color);\n",
              "      border-right-color: var(--fill-color);\n",
              "    }\n",
              "    40% {\n",
              "      border-color: transparent;\n",
              "      border-right-color: var(--fill-color);\n",
              "      border-top-color: var(--fill-color);\n",
              "    }\n",
              "    60% {\n",
              "      border-color: transparent;\n",
              "      border-right-color: var(--fill-color);\n",
              "    }\n",
              "    80% {\n",
              "      border-color: transparent;\n",
              "      border-right-color: var(--fill-color);\n",
              "      border-bottom-color: var(--fill-color);\n",
              "    }\n",
              "    90% {\n",
              "      border-color: transparent;\n",
              "      border-bottom-color: var(--fill-color);\n",
              "    }\n",
              "  }\n",
              "</style>\n",
              "\n",
              "  <script>\n",
              "    async function quickchart(key) {\n",
              "      const quickchartButtonEl =\n",
              "        document.querySelector('#' + key + ' button');\n",
              "      quickchartButtonEl.disabled = true;  // To prevent multiple clicks.\n",
              "      quickchartButtonEl.classList.add('colab-df-spinner');\n",
              "      try {\n",
              "        const charts = await google.colab.kernel.invokeFunction(\n",
              "            'suggestCharts', [key], {});\n",
              "      } catch (error) {\n",
              "        console.error('Error during call to suggestCharts:', error);\n",
              "      }\n",
              "      quickchartButtonEl.classList.remove('colab-df-spinner');\n",
              "      quickchartButtonEl.classList.add('colab-df-quickchart-complete');\n",
              "    }\n",
              "    (() => {\n",
              "      let quickchartButtonEl =\n",
              "        document.querySelector('#df-ceff4415-0055-4752-9b12-b728e3cec593 button');\n",
              "      quickchartButtonEl.style.display =\n",
              "        google.colab.kernel.accessAllowed ? 'block' : 'none';\n",
              "    })();\n",
              "  </script>\n",
              "</div>\n",
              "\n",
              "  <div id=\"id_2f9703b8-0010-4833-91de-8c1e00ec968f\">\n",
              "    <style>\n",
              "      .colab-df-generate {\n",
              "        background-color: #E8F0FE;\n",
              "        border: none;\n",
              "        border-radius: 50%;\n",
              "        cursor: pointer;\n",
              "        display: none;\n",
              "        fill: #1967D2;\n",
              "        height: 32px;\n",
              "        padding: 0 0 0 0;\n",
              "        width: 32px;\n",
              "      }\n",
              "\n",
              "      .colab-df-generate:hover {\n",
              "        background-color: #E2EBFA;\n",
              "        box-shadow: 0px 1px 2px rgba(60, 64, 67, 0.3), 0px 1px 3px 1px rgba(60, 64, 67, 0.15);\n",
              "        fill: #174EA6;\n",
              "      }\n",
              "\n",
              "      [theme=dark] .colab-df-generate {\n",
              "        background-color: #3B4455;\n",
              "        fill: #D2E3FC;\n",
              "      }\n",
              "\n",
              "      [theme=dark] .colab-df-generate:hover {\n",
              "        background-color: #434B5C;\n",
              "        box-shadow: 0px 1px 3px 1px rgba(0, 0, 0, 0.15);\n",
              "        filter: drop-shadow(0px 1px 2px rgba(0, 0, 0, 0.3));\n",
              "        fill: #FFFFFF;\n",
              "      }\n",
              "    </style>\n",
              "    <button class=\"colab-df-generate\" onclick=\"generateWithVariable('df_chamados_perturbacao')\"\n",
              "            title=\"Generate code using this dataframe.\"\n",
              "            style=\"display:none;\">\n",
              "\n",
              "  <svg xmlns=\"http://www.w3.org/2000/svg\" height=\"24px\"viewBox=\"0 0 24 24\"\n",
              "       width=\"24px\">\n",
              "    <path d=\"M7,19H8.4L18.45,9,17,7.55,7,17.6ZM5,21V16.75L18.45,3.32a2,2,0,0,1,2.83,0l1.4,1.43a1.91,1.91,0,0,1,.58,1.4,1.91,1.91,0,0,1-.58,1.4L9.25,21ZM18.45,9,17,7.55Zm-12,3A5.31,5.31,0,0,0,4.9,8.1,5.31,5.31,0,0,0,1,6.5,5.31,5.31,0,0,0,4.9,4.9,5.31,5.31,0,0,0,6.5,1,5.31,5.31,0,0,0,8.1,4.9,5.31,5.31,0,0,0,12,6.5,5.46,5.46,0,0,0,6.5,12Z\"/>\n",
              "  </svg>\n",
              "    </button>\n",
              "    <script>\n",
              "      (() => {\n",
              "      const buttonEl =\n",
              "        document.querySelector('#id_2f9703b8-0010-4833-91de-8c1e00ec968f button.colab-df-generate');\n",
              "      buttonEl.style.display =\n",
              "        google.colab.kernel.accessAllowed ? 'block' : 'none';\n",
              "\n",
              "      buttonEl.onclick = () => {\n",
              "        google.colab.notebook.generateWithVariable('df_chamados_perturbacao');\n",
              "      }\n",
              "      })();\n",
              "    </script>\n",
              "  </div>\n",
              "\n",
              "    </div>\n",
              "  </div>\n"
            ],
            "application/vnd.google.colaboratory.intrinsic+json": {
              "type": "dataframe",
              "variable_name": "df_chamados_perturbacao",
              "summary": "{\n  \"name\": \"df_chamados_perturbacao\",\n  \"rows\": 794,\n  \"fields\": [\n    {\n      \"column\": \"id_chamado\",\n      \"properties\": {\n        \"dtype\": \"string\",\n        \"num_unique_values\": 794,\n        \"samples\": [\n          \"17684203\",\n          \"17658257\",\n          \"17684353\"\n        ],\n        \"semantic_type\": \"\",\n        \"description\": \"\"\n      }\n    },\n    {\n      \"column\": \"data_inicio\",\n      \"properties\": {\n        \"dtype\": \"date\",\n        \"min\": \"2022-09-02 00:00:50\",\n        \"max\": \"2023-02-20 23:49:58\",\n        \"num_unique_values\": 793,\n        \"samples\": [\n          \"2022-09-10 20:04:05\",\n          \"2022-09-03 23:24:48\",\n          \"2023-02-18 05:23:18\"\n        ],\n        \"semantic_type\": \"\",\n        \"description\": \"\"\n      }\n    },\n    {\n      \"column\": \"data_fim\",\n      \"properties\": {\n        \"dtype\": \"date\",\n        \"min\": \"2022-09-02 04:08:22\",\n        \"max\": \"2023-02-28 10:27:40\",\n        \"num_unique_values\": 745,\n        \"samples\": [\n          \"2023-02-28 09:58:58\",\n          \"2022-09-15 16:34:37\",\n          \"2022-09-03 05:04:54\"\n        ],\n        \"semantic_type\": \"\",\n        \"description\": \"\"\n      }\n    },\n    {\n      \"column\": \"id_bairro\",\n      \"properties\": {\n        \"dtype\": \"category\",\n        \"num_unique_values\": 114,\n        \"samples\": [\n          \"79\",\n          \"88\",\n          \"69\"\n        ],\n        \"semantic_type\": \"\",\n        \"description\": \"\"\n      }\n    },\n    {\n      \"column\": \"tipo\",\n      \"properties\": {\n        \"dtype\": \"category\",\n        \"num_unique_values\": 1,\n        \"samples\": [\n          \"Polui\\u00e7\\u00e3o sonora\"\n        ],\n        \"semantic_type\": \"\",\n        \"description\": \"\"\n      }\n    },\n    {\n      \"column\": \"subtipo\",\n      \"properties\": {\n        \"dtype\": \"category\",\n        \"num_unique_values\": 1,\n        \"samples\": [\n          \"Perturba\\u00e7\\u00e3o do sossego\"\n        ],\n        \"semantic_type\": \"\",\n        \"description\": \"\"\n      }\n    },\n    {\n      \"column\": \"evento\",\n      \"properties\": {\n        \"dtype\": \"category\",\n        \"num_unique_values\": 3,\n        \"samples\": [\n          \"Carnaval\"\n        ],\n        \"semantic_type\": \"\",\n        \"description\": \"\"\n      }\n    }\n  ]\n}"
            }
          },
          "metadata": {},
          "execution_count": 19
        }
      ]
    },
    {
      "cell_type": "markdown",
      "source": [
        "8. Quantos chamados desse subtipo foram abertos em cada evento?"
      ],
      "metadata": {
        "id": "wqWEifEDBxwD"
      }
    },
    {
      "cell_type": "code",
      "source": [
        "# Realizando um groupby por eventos no df filtrado com chamados do subtipo \"Perturbação do sossego\" df_chamados_perturbacao\n",
        "quantidade_chamados_evento = pd.DataFrame(df_chamados_perturbacao.groupby(['evento'])['id_chamado'].count()).rename(columns={'id_chamado': 'qnt_chamados'}).reset_index()\n",
        "\n",
        "# Imprimindo o DataFrame com formatação\n",
        "print(\"Quantidade de chamados abertos por evento:\")\n",
        "for index, row in quantidade_chamados_evento.iterrows():\n",
        "    print(f\"{row['evento']}: {row['qnt_chamados']} chamados\")"
      ],
      "metadata": {
        "id": "_28tJxBYB1GW",
        "colab": {
          "base_uri": "https://localhost:8080/"
        },
        "outputId": "ef62e4ee-a9dd-4d37-f13a-938bc15fbd88"
      },
      "execution_count": null,
      "outputs": [
        {
          "output_type": "stream",
          "name": "stdout",
          "text": [
            "Quantidade de chamados abertos por evento:\n",
            "Carnaval: 197 chamados\n",
            "Reveillon: 79 chamados\n",
            "Rock in Rio: 518 chamados\n"
          ]
        }
      ]
    },
    {
      "cell_type": "markdown",
      "source": [
        "9. Qual evento teve a maior média diária de chamados abertos desse subtipo?"
      ],
      "metadata": {
        "id": "wQ2pP4WeB2_R"
      }
    },
    {
      "cell_type": "code",
      "source": [
        "# Importando a biclioteca para manipulação de datas\n",
        "from datetime import timedelta\n",
        "\n",
        "# Calculando a duração de cada evento\n",
        "df_eventos['dias_evento'] = ((df_eventos['data_final'] - df_eventos['data_inicial']) + timedelta(days=1)).dt.days\n",
        "duracao_eventos = pd.DataFrame(df_eventos.groupby(df_eventos['evento'])['dias_evento'].sum()).reset_index()\n",
        "\n",
        "# Calculando a média diária de chamados por evento\n",
        "media_diaria = pd.merge(quantidade_chamados_evento, duracao_eventos, on='evento')\n",
        "media_diaria['media_chamados_por_dia'] = media_diaria['qnt_chamados'] / media_diaria['dias_evento']\n",
        "\n",
        "print(f\"O evento com a maior média diária de chamados abertos desse subtipo é o: {media_diaria['evento'].max()} \")"
      ],
      "metadata": {
        "colab": {
          "base_uri": "https://localhost:8080/"
        },
        "id": "9PQof35gTvVL",
        "outputId": "6bec55a5-c02a-4e37-d7f2-a98749e356f3"
      },
      "execution_count": null,
      "outputs": [
        {
          "output_type": "stream",
          "name": "stdout",
          "text": [
            "O evento com a maior média diária de chamados abertos desse subtipo é o: Rock in Rio \n"
          ]
        }
      ]
    },
    {
      "cell_type": "markdown",
      "source": [
        "10. Compare as médias diárias de chamados abertos desse subtipo durante os eventos específicos (Reveillon, Carnaval e Rock in Rio) e a média diária de chamados abertos desse subtipo considerando todo o período de 01/01/2022 até 31/12/2023."
      ],
      "metadata": {
        "id": "e1kqstTyB43j"
      }
    },
    {
      "cell_type": "code",
      "source": [
        "# Importando a biclioteca para manipulação de datas\n",
        "from datetime import datetime\n",
        "\n",
        "# Criando os objetos datetime para as datas fornecidas\n",
        "data_inicio = datetime(2022, 1, 1)\n",
        "data_fim = datetime(2023, 12, 31)\n",
        "\n",
        "# Calculando a quantidade de dias total com esse subtipo de chamado\n",
        "qnt_dias = ((data_fim - data_inicio) + timedelta(days=1)).days\n",
        "\n",
        "# Calculando a média diária total com esse subtipo de chamado\n",
        "media_diaria_chamado = questao_6 / qnt_dias\n",
        "\n"
      ],
      "metadata": {
        "id": "MUZLBaiEB8yJ"
      },
      "execution_count": null,
      "outputs": []
    },
    {
      "cell_type": "code",
      "source": [
        "# Novos valores para a nova linha\n",
        "nova_linha = {'evento': 'Período Geral', 'media_chamados_por_dia': media_diaria_chamado}\n",
        "\n",
        "# Adicionando a nova linha ao DataFrame\n",
        "questao_10 = media_diaria[['evento','media_chamados_por_dia']].append(nova_linha, ignore_index=True)\n",
        "\n",
        "# Imprimindo o DataFrame com formatação\n",
        "print(\"Médias diárias de chamados abertos:\")\n",
        "for index, row in questao_10.iterrows():\n",
        "    print(f\"{row['evento']}: {row['media_chamados_por_dia'].%2} dias em média\")"
      ],
      "metadata": {
        "colab": {
          "base_uri": "https://localhost:8080/"
        },
        "id": "butCh9DuLYfJ",
        "outputId": "867d0d34-2477-47ef-d897-885541da9f75"
      },
      "execution_count": null,
      "outputs": [
        {
          "output_type": "stream",
          "name": "stdout",
          "text": [
            "Médias diárias de chamados abertos:\n",
            "Carnaval: 49.25 dias em média\n",
            "Reveillon: 26.333333333333332 dias em média\n",
            "Rock in Rio: 74.0 dias em média\n",
            "Período Geral: 58.09315068493151 dias em média\n"
          ]
        }
      ]
    },
    {
      "cell_type": "markdown",
      "source": [
        "# Análise Descritiva\n",
        "\n",
        "Nesta seção poderemos ver algumas outras análises e gráficos sobre os dados.\n",
        "Não irei utilizar toda a massa de dados, assim como não irei realizar os melhores tratamentos ou análises pois faço apenas por curiosidade."
      ],
      "metadata": {
        "id": "uHE2NugJSaDJ"
      }
    },
    {
      "cell_type": "markdown",
      "source": [
        "Realizando as querys"
      ],
      "metadata": {
        "id": "GtQs20INS7f7"
      }
    },
    {
      "cell_type": "code",
      "source": [
        "# Realizando a query na tabela de chamados para criar o dataframe com todas as colunas mas com limite de 100k de linhas\n",
        "query = '''\n",
        "\n",
        "SELECT\n",
        "  *\n",
        "FROM\n",
        "  `datario.administracao_servicos_publicos.chamado_1746`\n",
        "LIMIT 100000\n",
        "\n",
        "'''\n",
        "df_chamados = bd.read_sql(query, billing_project_id=\"cellular-tide-414417\")"
      ],
      "metadata": {
        "id": "tSBiVVVDS52-"
      },
      "execution_count": null,
      "outputs": []
    },
    {
      "cell_type": "code",
      "source": [
        "# Realizando a query na tabela de bairros para criar o dataframe\n",
        "query2 = '''\n",
        "\n",
        "SELECT\n",
        "   *\n",
        "FROM\n",
        "  `datario.dados_mestres.bairro`\n",
        "\n",
        "'''\n",
        "df_bairros = bd.read_sql(query2, billing_project_id=\"cellular-tide-414417\")"
      ],
      "metadata": {
        "colab": {
          "base_uri": "https://localhost:8080/"
        },
        "id": "U6d3xQTb6_fC",
        "outputId": "9649cf02-8da2-46fe-ed6b-3fcd0cc85cd7"
      },
      "execution_count": null,
      "outputs": [
        {
          "output_type": "stream",
          "name": "stderr",
          "text": [
            "Downloading: 100%|██████████| 164/164 [00:03<00:00, 47.98rows/s]\n"
          ]
        }
      ]
    },
    {
      "cell_type": "code",
      "source": [
        "# Realizando a query na tabela de eventos para criar o dataframe\n",
        "query3 = '''\n",
        "\n",
        "SELECT\n",
        "  *\n",
        "FROM\n",
        "  `datario.turismo_fluxo_visitantes.rede_hoteleira_ocupacao_eventos`\n",
        "\n",
        "'''\n",
        "df_eventos = bd.read_sql(query3, billing_project_id=\"cellular-tide-414417\")"
      ],
      "metadata": {
        "colab": {
          "base_uri": "https://localhost:8080/"
        },
        "id": "C0WUq2Rg7Ecj",
        "outputId": "6e7824f0-19a4-4e29-bd88-84d5b0f30243"
      },
      "execution_count": null,
      "outputs": [
        {
          "output_type": "stream",
          "name": "stderr",
          "text": [
            "Downloading: 100%|██████████| 4/4 [00:00<00:00, 20.14rows/s]\n"
          ]
        }
      ]
    },
    {
      "cell_type": "markdown",
      "source": [
        "Análise descritiva da tabela de chamados"
      ],
      "metadata": {
        "id": "btV9l2Ro7PaK"
      }
    },
    {
      "cell_type": "code",
      "source": [
        "# Criando um dataframe com o join entre as tabelas chamado e bairro\n",
        "df_completo = df_chamados.merge(df_bairros[['id_bairro', 'nome', 'subprefeitura']],\n",
        "                                                                  how='left', on='id_bairro')"
      ],
      "metadata": {
        "id": "QlDES1vT-Sh_"
      },
      "execution_count": null,
      "outputs": []
    },
    {
      "cell_type": "code",
      "source": [
        "pd.set_option('display.max_columns', None)\n",
        "df_completo.head()"
      ],
      "metadata": {
        "id": "pOQTW7qo7VI5"
      },
      "execution_count": null,
      "outputs": []
    },
    {
      "cell_type": "code",
      "source": [
        "df_completo.info()"
      ],
      "metadata": {
        "id": "YMuXL6pI7aVz"
      },
      "execution_count": null,
      "outputs": []
    },
    {
      "cell_type": "code",
      "source": [
        "# Identificando a quantidade de null\n",
        "df_completo.isna().sum()"
      ],
      "metadata": {
        "colab": {
          "base_uri": "https://localhost:8080/",
          "height": 159
        },
        "id": "H-A6Qb8P9SvP",
        "outputId": "c39f5084-d588-4e75-fefe-749da6f234f8"
      },
      "execution_count": null,
      "outputs": [
        {
          "output_type": "error",
          "ename": "NameError",
          "evalue": "name 'df_completo' is not defined",
          "traceback": [
            "\u001b[0;31m---------------------------------------------------------------------------\u001b[0m",
            "\u001b[0;31mNameError\u001b[0m                                 Traceback (most recent call last)",
            "\u001b[0;32m<ipython-input-2-f9a76f0ddf02>\u001b[0m in \u001b[0;36m<cell line: 2>\u001b[0;34m()\u001b[0m\n\u001b[1;32m      1\u001b[0m \u001b[0;31m# Identificando a quantidade de null\u001b[0m\u001b[0;34m\u001b[0m\u001b[0;34m\u001b[0m\u001b[0m\n\u001b[0;32m----> 2\u001b[0;31m \u001b[0mdf_completo\u001b[0m\u001b[0;34m.\u001b[0m\u001b[0misna\u001b[0m\u001b[0;34m(\u001b[0m\u001b[0;34m)\u001b[0m\u001b[0;34m.\u001b[0m\u001b[0msum\u001b[0m\u001b[0;34m(\u001b[0m\u001b[0;34m)\u001b[0m\u001b[0;34m\u001b[0m\u001b[0;34m\u001b[0m\u001b[0m\n\u001b[0m",
            "\u001b[0;31mNameError\u001b[0m: name 'df_completo' is not defined"
          ]
        }
      ]
    },
    {
      "cell_type": "code",
      "source": [
        "df_completo.dropna()"
      ],
      "metadata": {
        "colab": {
          "base_uri": "https://localhost:8080/",
          "height": 141
        },
        "id": "tbCe2t-het4x",
        "outputId": "0820992c-0b30-4909-f87e-86e78ec7c1fd"
      },
      "execution_count": null,
      "outputs": [
        {
          "output_type": "error",
          "ename": "NameError",
          "evalue": "name 'df_completo' is not defined",
          "traceback": [
            "\u001b[0;31m---------------------------------------------------------------------------\u001b[0m",
            "\u001b[0;31mNameError\u001b[0m                                 Traceback (most recent call last)",
            "\u001b[0;32m<ipython-input-1-26732298b1ed>\u001b[0m in \u001b[0;36m<cell line: 1>\u001b[0;34m()\u001b[0m\n\u001b[0;32m----> 1\u001b[0;31m \u001b[0mdf_completo\u001b[0m\u001b[0;34m.\u001b[0m\u001b[0mdropna\u001b[0m\u001b[0;34m(\u001b[0m\u001b[0;34m)\u001b[0m\u001b[0;34m\u001b[0m\u001b[0;34m\u001b[0m\u001b[0m\n\u001b[0m",
            "\u001b[0;31mNameError\u001b[0m: name 'df_completo' is not defined"
          ]
        }
      ]
    },
    {
      "cell_type": "code",
      "source": [
        "# Mapear os tipos de coluna que precisam ser alterados\n",
        "tipos_para_alterar = {\n",
        "    'id_chamado': 'int',\n",
        "    'id_bairro': 'int',\n",
        "    'id_territorialidade': 'int',\n",
        "    'id_logradouro': 'int',\n",
        "    'id_unidade_organizacional': 'int',\n",
        "    'id_tipo': 'int',\n",
        "    'id_subtipo': 'int',\n",
        "    'data_particao': 'datetime64[ns]',\n",
        "    'tipo': 'category',\n",
        "    'subtipo': 'category',\n",
        "    'dentro_prazo': 'category',\n",
        "    'situacao': 'category',\n",
        "    'tipo_situacao': 'category'\n",
        "}\n",
        "\n",
        "# Iterar sobre as colunas e alterar os tipos\n",
        "for coluna, novo_tipo in tipos_para_alterar.items():\n",
        "    if coluna in df_chamados.columns:\n",
        "        df_completo[coluna] = df_completo[coluna].astype(novo_tipo)"
      ],
      "metadata": {
        "id": "-8SMqtxv7nyy"
      },
      "execution_count": null,
      "outputs": []
    },
    {
      "cell_type": "code",
      "source": [],
      "metadata": {
        "id": "LmGkJ3239EzJ"
      },
      "execution_count": null,
      "outputs": []
    }
  ]
}