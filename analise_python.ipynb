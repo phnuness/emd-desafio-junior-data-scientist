{
  "nbformat": 4,
  "nbformat_minor": 0,
  "metadata": {
    "colab": {
      "provenance": [],
      "toc_visible": true,
      "authorship_tag": "ABX9TyNFh3tT+vmS+N8uU7JaJgcc",
      "include_colab_link": true
    },
    "kernelspec": {
      "name": "python3",
      "display_name": "Python 3"
    },
    "language_info": {
      "name": "python"
    }
  },
  "cells": [
    {
      "cell_type": "markdown",
      "metadata": {
        "id": "view-in-github",
        "colab_type": "text"
      },
      "source": [
        "<a href=\"https://colab.research.google.com/github/phnuness/emd-desafio-junior-data-scientist/blob/main/analise_python.ipynb\" target=\"_parent\"><img src=\"https://colab.research.google.com/assets/colab-badge.svg\" alt=\"Open In Colab\"/></a>"
      ]
    },
    {
      "cell_type": "code",
      "source": [
        "pip install basedosdados --use-deprecated=legacy-resolver\n"
      ],
      "metadata": {
        "colab": {
          "base_uri": "https://localhost:8080/"
        },
        "id": "1iVv91F-A_Qs",
        "outputId": "38ab03fa-3337-47e0-dd3f-e57091695306"
      },
      "execution_count": null,
      "outputs": [
        {
          "output_type": "stream",
          "name": "stdout",
          "text": [
            "Requirement already satisfied: basedosdados in /usr/local/lib/python3.10/dist-packages (1.6.11)\n",
            "Requirement already satisfied: Jinja2==3.0.3 in /usr/local/lib/python3.10/dist-packages (from basedosdados) (3.0.3)\n",
            "Requirement already satisfied: ckanapi==4.6 in /usr/local/lib/python3.10/dist-packages (from basedosdados) (4.6)\n",
            "Requirement already satisfied: click==8.0.3 in /usr/local/lib/python3.10/dist-packages (from basedosdados) (8.0.3)\n",
            "Requirement already satisfied: google-cloud-bigquery==2.30.1 in /usr/local/lib/python3.10/dist-packages (from basedosdados) (2.30.1)\n",
            "Requirement already satisfied: google-cloud-bigquery-storage==1.1.0 in /usr/local/lib/python3.10/dist-packages (from basedosdados) (1.1.0)\n",
            "Requirement already satisfied: google-cloud-storage==1.42.3 in /usr/local/lib/python3.10/dist-packages (from basedosdados) (1.42.3)\n",
            "Requirement already satisfied: importlib-metadata<5.0.0,>=4.11.3 in /usr/local/lib/python3.10/dist-packages (from basedosdados) (4.13.0)\n",
            "Requirement already satisfied: loguru<0.7.0,>=0.6.0 in /usr/local/lib/python3.10/dist-packages (from basedosdados) (0.6.0)\n",
            "Requirement already satisfied: pandas<2.0.0,>=1.3.5 in /usr/local/lib/python3.10/dist-packages (from basedosdados) (1.5.3)\n",
            "Requirement already satisfied: pandas-gbq<0.18.0,>=0.17.4 in /usr/local/lib/python3.10/dist-packages (from basedosdados) (0.17.9)\n",
            "Requirement already satisfied: pandavro<2.0.0,>=1.6.0 in /usr/local/lib/python3.10/dist-packages (from basedosdados) (1.8.0)\n",
            "Requirement already satisfied: pyaml==20.4.0 in /usr/local/lib/python3.10/dist-packages (from basedosdados) (20.4.0)\n",
            "Requirement already satisfied: pyarrow==6.0.0 in /usr/local/lib/python3.10/dist-packages (from basedosdados) (6.0.0)\n",
            "Requirement already satisfied: ruamel.yaml==0.17.10 in /usr/local/lib/python3.10/dist-packages (from basedosdados) (0.17.10)\n",
            "Requirement already satisfied: shapely<2.0.0,>=1.6.0 in /usr/local/lib/python3.10/dist-packages (from basedosdados) (1.8.5.post1)\n",
            "Requirement already satisfied: toml<0.11.0,>=0.10.2 in /usr/local/lib/python3.10/dist-packages (from basedosdados) (0.10.2)\n",
            "Requirement already satisfied: tomlkit==0.7.0 in /usr/local/lib/python3.10/dist-packages (from basedosdados) (0.7.0)\n",
            "Requirement already satisfied: tqdm==4.50.2 in /usr/local/lib/python3.10/dist-packages (from basedosdados) (4.50.2)\n",
            "Requirement already satisfied: MarkupSafe>=2.0 in /usr/local/lib/python3.10/dist-packages (from Jinja2==3.0.3->basedosdados) (2.1.5)\n",
            "Requirement already satisfied: setuptools in /usr/local/lib/python3.10/dist-packages (from ckanapi==4.6->basedosdados) (67.7.2)\n",
            "Requirement already satisfied: docopt in /usr/local/lib/python3.10/dist-packages (from ckanapi==4.6->basedosdados) (0.6.2)\n",
            "Requirement already satisfied: requests in /usr/local/lib/python3.10/dist-packages (from ckanapi==4.6->basedosdados) (2.31.0)\n",
            "Requirement already satisfied: python-slugify>=1.0 in /usr/local/lib/python3.10/dist-packages (from ckanapi==4.6->basedosdados) (8.0.4)\n",
            "Requirement already satisfied: six<2.0,>=1.9 in /usr/local/lib/python3.10/dist-packages (from ckanapi==4.6->basedosdados) (1.16.0)\n",
            "Requirement already satisfied: grpcio<2.0dev,>=1.38.1 in /usr/local/lib/python3.10/dist-packages (from google-cloud-bigquery==2.30.1->basedosdados) (1.60.1)\n",
            "Requirement already satisfied: google-api-core[grpc]<3.0.0dev,>=1.29.0 in /usr/local/lib/python3.10/dist-packages (from google-cloud-bigquery==2.30.1->basedosdados) (2.11.1)\n",
            "Requirement already satisfied: proto-plus>=1.10.0 in /usr/local/lib/python3.10/dist-packages (from google-cloud-bigquery==2.30.1->basedosdados) (1.23.0)\n",
            "Requirement already satisfied: google-cloud-core<3.0.0dev,>=1.4.1 in /usr/local/lib/python3.10/dist-packages (from google-cloud-bigquery==2.30.1->basedosdados) (2.3.3)\n",
            "Requirement already satisfied: google-resumable-media<3.0dev,>=0.6.0 in /usr/local/lib/python3.10/dist-packages (from google-cloud-bigquery==2.30.1->basedosdados) (2.7.0)\n",
            "Requirement already satisfied: packaging>=14.3 in /usr/local/lib/python3.10/dist-packages (from google-cloud-bigquery==2.30.1->basedosdados) (23.2)\n",
            "Requirement already satisfied: protobuf>=3.12.0 in /usr/local/lib/python3.10/dist-packages (from google-cloud-bigquery==2.30.1->basedosdados) (3.20.3)\n",
            "Requirement already satisfied: python-dateutil<3.0dev,>=2.7.2 in /usr/local/lib/python3.10/dist-packages (from google-cloud-bigquery==2.30.1->basedosdados) (2.8.2)\n",
            "Requirement already satisfied: google-auth<3.0dev,>=1.25.0; python_version >= \"3.6\" in /usr/local/lib/python3.10/dist-packages (from google-cloud-storage==1.42.3->basedosdados) (2.27.0)\n",
            "Requirement already satisfied: zipp>=0.5 in /usr/local/lib/python3.10/dist-packages (from importlib-metadata<5.0.0,>=4.11.3->basedosdados) (3.17.0)\n",
            "Requirement already satisfied: pytz>=2020.1 in /usr/local/lib/python3.10/dist-packages (from pandas<2.0.0,>=1.3.5->basedosdados) (2023.4)\n",
            "Requirement already satisfied: numpy>=1.21.0; python_version >= \"3.10\" in /usr/local/lib/python3.10/dist-packages (from pandas<2.0.0,>=1.3.5->basedosdados) (1.25.2)\n",
            "Requirement already satisfied: db-dtypes<2.0.0,>=0.3.1 in /usr/local/lib/python3.10/dist-packages (from pandas-gbq<0.18.0,>=0.17.4->basedosdados) (1.2.0)\n",
            "Requirement already satisfied: pydata-google-auth in /usr/local/lib/python3.10/dist-packages (from pandas-gbq<0.18.0,>=0.17.4->basedosdados) (1.8.2)\n",
            "Requirement already satisfied: google-auth-oauthlib>=0.0.1 in /usr/local/lib/python3.10/dist-packages (from pandas-gbq<0.18.0,>=0.17.4->basedosdados) (1.2.0)\n",
            "Requirement already satisfied: fastavro<2.0.0,>=1.5.1 in /usr/local/lib/python3.10/dist-packages (from pandavro<2.0.0,>=1.6.0->basedosdados) (1.9.4)\n",
            "Requirement already satisfied: PyYAML in /usr/local/lib/python3.10/dist-packages (from pyaml==20.4.0->basedosdados) (6.0.1)\n",
            "Requirement already satisfied: charset-normalizer<4,>=2 in /usr/local/lib/python3.10/dist-packages (from requests->ckanapi==4.6->basedosdados) (3.3.2)\n",
            "Requirement already satisfied: idna<4,>=2.5 in /usr/local/lib/python3.10/dist-packages (from requests->ckanapi==4.6->basedosdados) (3.6)\n",
            "Requirement already satisfied: urllib3<3,>=1.21.1 in /usr/local/lib/python3.10/dist-packages (from requests->ckanapi==4.6->basedosdados) (2.0.7)\n",
            "Requirement already satisfied: certifi>=2017.4.17 in /usr/local/lib/python3.10/dist-packages (from requests->ckanapi==4.6->basedosdados) (2024.2.2)\n",
            "Requirement already satisfied: text-unidecode>=1.3 in /usr/local/lib/python3.10/dist-packages (from python-slugify>=1.0->ckanapi==4.6->basedosdados) (1.3)\n",
            "Requirement already satisfied: googleapis-common-protos<2.0.dev0,>=1.56.2 in /usr/local/lib/python3.10/dist-packages (from google-api-core[grpc]<3.0.0dev,>=1.29.0->google-cloud-bigquery==2.30.1->basedosdados) (1.62.0)\n",
            "Requirement already satisfied: grpcio-status<2.0.dev0,>=1.33.2; extra == \"grpc\" in /usr/local/lib/python3.10/dist-packages (from google-api-core[grpc]<3.0.0dev,>=1.29.0->google-cloud-bigquery==2.30.1->basedosdados) (1.48.2)\n",
            "Requirement already satisfied: google-crc32c<2.0dev,>=1.0 in /usr/local/lib/python3.10/dist-packages (from google-resumable-media<3.0dev,>=0.6.0->google-cloud-bigquery==2.30.1->basedosdados) (1.5.0)\n",
            "Requirement already satisfied: cachetools<6.0,>=2.0.0 in /usr/local/lib/python3.10/dist-packages (from google-auth<3.0dev,>=1.25.0; python_version >= \"3.6\"->google-cloud-storage==1.42.3->basedosdados) (5.3.2)\n",
            "Requirement already satisfied: pyasn1-modules>=0.2.1 in /usr/local/lib/python3.10/dist-packages (from google-auth<3.0dev,>=1.25.0; python_version >= \"3.6\"->google-cloud-storage==1.42.3->basedosdados) (0.3.0)\n",
            "Requirement already satisfied: rsa<5,>=3.1.4 in /usr/local/lib/python3.10/dist-packages (from google-auth<3.0dev,>=1.25.0; python_version >= \"3.6\"->google-cloud-storage==1.42.3->basedosdados) (4.9)\n",
            "Requirement already satisfied: requests-oauthlib>=0.7.0 in /usr/local/lib/python3.10/dist-packages (from google-auth-oauthlib>=0.0.1->pandas-gbq<0.18.0,>=0.17.4->basedosdados) (1.3.1)\n",
            "Requirement already satisfied: pyasn1<0.6.0,>=0.4.6 in /usr/local/lib/python3.10/dist-packages (from pyasn1-modules>=0.2.1->google-auth<3.0dev,>=1.25.0; python_version >= \"3.6\"->google-cloud-storage==1.42.3->basedosdados) (0.5.1)\n",
            "Requirement already satisfied: oauthlib>=3.0.0 in /usr/local/lib/python3.10/dist-packages (from requests-oauthlib>=0.7.0->google-auth-oauthlib>=0.0.1->pandas-gbq<0.18.0,>=0.17.4->basedosdados) (3.2.2)\n"
          ]
        }
      ]
    },
    {
      "cell_type": "code",
      "source": [
        "# Importando a biblioteca\n",
        "import basedosdados as bd\n",
        "import pandas as pd"
      ],
      "metadata": {
        "id": "GgEeILCVBbkh"
      },
      "execution_count": null,
      "outputs": []
    },
    {
      "cell_type": "code",
      "source": [
        "# Realizando a query na tabela de chamados para criar o dataframe\n",
        "query = '''\n",
        "\n",
        "SELECT\n",
        "  id_chamado, data_inicio, data_fim, id_bairro, tipo, subtipo\n",
        "FROM\n",
        "  `datario.administracao_servicos_publicos.chamado_1746`\n",
        "\n",
        "'''\n",
        "df_chamados = bd.read_sql(query, billing_project_id=\"cellular-tide-414417\")"
      ],
      "metadata": {
        "colab": {
          "base_uri": "https://localhost:8080/"
        },
        "id": "fN6x0zDXPmeg",
        "outputId": "9b2a96ae-0e04-4ed3-90f3-4fc9e4213d10"
      },
      "execution_count": null,
      "outputs": [
        {
          "output_type": "stream",
          "name": "stderr",
          "text": [
            "Downloading: 100%|██████████| 10742832/10742832 [16:32<00:00, 10823.75rows/s]\n"
          ]
        }
      ]
    },
    {
      "cell_type": "code",
      "source": [
        "df_chamados.head()"
      ],
      "metadata": {
        "id": "dMydzC9dNxD4"
      },
      "execution_count": null,
      "outputs": []
    },
    {
      "cell_type": "code",
      "source": [
        "df_chamados.info()"
      ],
      "metadata": {
        "id": "8Nke48cc8ybb"
      },
      "execution_count": null,
      "outputs": []
    },
    {
      "cell_type": "markdown",
      "source": [
        "1. Quantos chamados foram abertos no dia 01/04/2023?"
      ],
      "metadata": {
        "id": "0SsdA5G_niF7"
      }
    },
    {
      "cell_type": "code",
      "source": [
        "# Filtrando a quantidade de chamados abertos na data 01/04/2023\n",
        "len(df_chamados.loc[(df_chamados.data_inicio >= '2023-04-01') & (df_chamados.data_inicio < '2023-04-02')])"
      ],
      "metadata": {
        "colab": {
          "base_uri": "https://localhost:8080/"
        },
        "id": "lf877OuF9ZrC",
        "outputId": "e5a822ad-d43f-4234-f13a-396b20715eec"
      },
      "execution_count": null,
      "outputs": [
        {
          "output_type": "execute_result",
          "data": {
            "text/plain": [
              "73"
            ]
          },
          "metadata": {},
          "execution_count": 31
        }
      ]
    },
    {
      "cell_type": "markdown",
      "source": [
        "2. Qual o tipo de chamado que teve mais reclamações no dia 01/04/2023?"
      ],
      "metadata": {
        "id": "SeQ1JsEqBVDo"
      }
    },
    {
      "cell_type": "code",
      "source": [
        "# Filtrando a coluna tipo para identificar o tipo com mais reclamações no dia 01/04/2023\n",
        "df_chamados['tipo'].loc[(df_chamados.data_inicio >= '2023-04-01') & (df_chamados.data_inicio < '2023-04-02')].value_counts().head(1)\n"
      ],
      "metadata": {
        "id": "wsSFBCsTATxF",
        "colab": {
          "base_uri": "https://localhost:8080/"
        },
        "outputId": "4c6706b6-9537-43bf-f100-51d312aaabaa"
      },
      "execution_count": null,
      "outputs": [
        {
          "output_type": "execute_result",
          "data": {
            "text/plain": [
              "Poluição sonora    24\n",
              "Name: tipo, dtype: int64"
            ]
          },
          "metadata": {},
          "execution_count": 32
        }
      ]
    },
    {
      "cell_type": "markdown",
      "source": [
        "3. Quais os nomes dos 3 bairros que mais tiveram chamados abertos nesse dia?"
      ],
      "metadata": {
        "id": "ZNkUJ8TXBXnh"
      }
    },
    {
      "cell_type": "code",
      "source": [
        "# Realizando a query na tabela de bairros para criar o dataframe\n",
        "query = '''\n",
        "\n",
        "SELECT\n",
        "   id_bairro, subprefeitura, nome as nome_bairro\n",
        "FROM\n",
        "  `datario.dados_mestres.bairro`\n",
        "\n",
        "'''\n",
        "df_bairros = bd.read_sql(query, billing_project_id=\"cellular-tide-414417\")"
      ],
      "metadata": {
        "id": "T11Hr7xBKzI0",
        "colab": {
          "base_uri": "https://localhost:8080/"
        },
        "outputId": "369b7612-fcfb-4fc7-e455-cff9f1dbd11d"
      },
      "execution_count": null,
      "outputs": [
        {
          "output_type": "stream",
          "name": "stderr",
          "text": [
            "Downloading: 100%|██████████| 164/164 [00:00<00:00, 857.05rows/s]\n"
          ]
        }
      ]
    },
    {
      "cell_type": "code",
      "source": [
        "# Criando um cada segundo dataframe com o join entre as tabelas chamado e bairro\n",
        "df_chamados_bairros = df_chamados[['id_chamado','data_inicio','id_bairro']].merge(df_bairros[['id_bairro', 'nome_bairro', 'subprefeitura']],\n",
        "                                                                  how='left', on='id_bairro')"
      ],
      "metadata": {
        "id": "5IjBZd-CO5gk"
      },
      "execution_count": null,
      "outputs": []
    },
    {
      "cell_type": "code",
      "source": [
        "# Filtrando a coluna nome_bairro para identificar o bairro com mais reclamações no dia 01/04/2023\n",
        "df_chamados_bairros['nome_bairro'].loc[(df_chamados_bairros.data_inicio >= '2023-04-01') &\n",
        " (df_chamados_bairros.data_inicio < '2023-04-02')].value_counts().head(3)\n"
      ],
      "metadata": {
        "id": "es8TI9wxMq3U",
        "colab": {
          "base_uri": "https://localhost:8080/"
        },
        "outputId": "1a900a5a-b618-4444-896d-8b4ba99c7dc2"
      },
      "execution_count": null,
      "outputs": [
        {
          "output_type": "execute_result",
          "data": {
            "text/plain": [
              "Engenho de Dentro    8\n",
              "Leblon               6\n",
              "Campo Grande         6\n",
              "Name: nome_bairro, dtype: int64"
            ]
          },
          "metadata": {},
          "execution_count": 33
        }
      ]
    },
    {
      "cell_type": "markdown",
      "source": [
        "4. Qual o nome da subprefeitura com mais chamados abertos nesse dia?"
      ],
      "metadata": {
        "id": "EY7Whb8ZBbuy"
      }
    },
    {
      "cell_type": "code",
      "source": [
        "# Filtrando a coluna subprefeitura para identificar a subprefeitura com mais reclamações no dia 01/04/2023\n",
        "df_chamados_bairros['subprefeitura'].loc[(df_chamados_bairros.data_inicio >= '2023-04-01') &\n",
        " (df_chamados_bairros.data_inicio < '2023-04-02')].value_counts().head(1)"
      ],
      "metadata": {
        "id": "X9TInw0mBgm5",
        "colab": {
          "base_uri": "https://localhost:8080/"
        },
        "outputId": "58874aae-9c1b-413e-e273-b9a0a5cb54df"
      },
      "execution_count": null,
      "outputs": [
        {
          "output_type": "execute_result",
          "data": {
            "text/plain": [
              "Zona Norte    25\n",
              "Name: subprefeitura, dtype: int64"
            ]
          },
          "metadata": {},
          "execution_count": 34
        }
      ]
    },
    {
      "cell_type": "markdown",
      "source": [
        "5. Existe algum chamado aberto nesse dia que não foi associado a um bairro ou   subprefeitura na tabela de bairros? Se sim, por que isso acontece?\n",
        "\n",
        "  R: Existe um chamado e acontece por motivos de dados ausentes ou não informados (null)"
      ],
      "metadata": {
        "id": "VWkRC_-RBg9t"
      }
    },
    {
      "cell_type": "code",
      "source": [
        "# Filtrando o df2 para identificar a se existe algum chamado aberto sem bairro ou subprefeitura definido\n",
        "df_chamados_bairros.loc[(df_chamados_bairros.data_inicio >= '2023-04-01') &\n",
        " (df_chamados_bairros.data_inicio < '2023-04-02') & (df_chamados_bairros.id_bairro.isnull())]"
      ],
      "metadata": {
        "id": "gkKkyUIoBn8G",
        "colab": {
          "base_uri": "https://localhost:8080/",
          "height": 81
        },
        "outputId": "de37da4c-01b6-4718-8067-a380cc12f915"
      },
      "execution_count": null,
      "outputs": [
        {
          "output_type": "execute_result",
          "data": {
            "text/plain": [
              "        id_chamado         data_inicio id_bairro nome_bairro subprefeitura\n",
              "3005757   18516246 2023-04-01 00:55:38      None         NaN           NaN"
            ],
            "text/html": [
              "\n",
              "  <div id=\"df-80459918-d3e9-4aef-b48d-47272bc90230\" class=\"colab-df-container\">\n",
              "    <div>\n",
              "<style scoped>\n",
              "    .dataframe tbody tr th:only-of-type {\n",
              "        vertical-align: middle;\n",
              "    }\n",
              "\n",
              "    .dataframe tbody tr th {\n",
              "        vertical-align: top;\n",
              "    }\n",
              "\n",
              "    .dataframe thead th {\n",
              "        text-align: right;\n",
              "    }\n",
              "</style>\n",
              "<table border=\"1\" class=\"dataframe\">\n",
              "  <thead>\n",
              "    <tr style=\"text-align: right;\">\n",
              "      <th></th>\n",
              "      <th>id_chamado</th>\n",
              "      <th>data_inicio</th>\n",
              "      <th>id_bairro</th>\n",
              "      <th>nome_bairro</th>\n",
              "      <th>subprefeitura</th>\n",
              "    </tr>\n",
              "  </thead>\n",
              "  <tbody>\n",
              "    <tr>\n",
              "      <th>3005757</th>\n",
              "      <td>18516246</td>\n",
              "      <td>2023-04-01 00:55:38</td>\n",
              "      <td>None</td>\n",
              "      <td>NaN</td>\n",
              "      <td>NaN</td>\n",
              "    </tr>\n",
              "  </tbody>\n",
              "</table>\n",
              "</div>\n",
              "    <div class=\"colab-df-buttons\">\n",
              "\n",
              "  <div class=\"colab-df-container\">\n",
              "    <button class=\"colab-df-convert\" onclick=\"convertToInteractive('df-80459918-d3e9-4aef-b48d-47272bc90230')\"\n",
              "            title=\"Convert this dataframe to an interactive table.\"\n",
              "            style=\"display:none;\">\n",
              "\n",
              "  <svg xmlns=\"http://www.w3.org/2000/svg\" height=\"24px\" viewBox=\"0 -960 960 960\">\n",
              "    <path d=\"M120-120v-720h720v720H120Zm60-500h600v-160H180v160Zm220 220h160v-160H400v160Zm0 220h160v-160H400v160ZM180-400h160v-160H180v160Zm440 0h160v-160H620v160ZM180-180h160v-160H180v160Zm440 0h160v-160H620v160Z\"/>\n",
              "  </svg>\n",
              "    </button>\n",
              "\n",
              "  <style>\n",
              "    .colab-df-container {\n",
              "      display:flex;\n",
              "      gap: 12px;\n",
              "    }\n",
              "\n",
              "    .colab-df-convert {\n",
              "      background-color: #E8F0FE;\n",
              "      border: none;\n",
              "      border-radius: 50%;\n",
              "      cursor: pointer;\n",
              "      display: none;\n",
              "      fill: #1967D2;\n",
              "      height: 32px;\n",
              "      padding: 0 0 0 0;\n",
              "      width: 32px;\n",
              "    }\n",
              "\n",
              "    .colab-df-convert:hover {\n",
              "      background-color: #E2EBFA;\n",
              "      box-shadow: 0px 1px 2px rgba(60, 64, 67, 0.3), 0px 1px 3px 1px rgba(60, 64, 67, 0.15);\n",
              "      fill: #174EA6;\n",
              "    }\n",
              "\n",
              "    .colab-df-buttons div {\n",
              "      margin-bottom: 4px;\n",
              "    }\n",
              "\n",
              "    [theme=dark] .colab-df-convert {\n",
              "      background-color: #3B4455;\n",
              "      fill: #D2E3FC;\n",
              "    }\n",
              "\n",
              "    [theme=dark] .colab-df-convert:hover {\n",
              "      background-color: #434B5C;\n",
              "      box-shadow: 0px 1px 3px 1px rgba(0, 0, 0, 0.15);\n",
              "      filter: drop-shadow(0px 1px 2px rgba(0, 0, 0, 0.3));\n",
              "      fill: #FFFFFF;\n",
              "    }\n",
              "  </style>\n",
              "\n",
              "    <script>\n",
              "      const buttonEl =\n",
              "        document.querySelector('#df-80459918-d3e9-4aef-b48d-47272bc90230 button.colab-df-convert');\n",
              "      buttonEl.style.display =\n",
              "        google.colab.kernel.accessAllowed ? 'block' : 'none';\n",
              "\n",
              "      async function convertToInteractive(key) {\n",
              "        const element = document.querySelector('#df-80459918-d3e9-4aef-b48d-47272bc90230');\n",
              "        const dataTable =\n",
              "          await google.colab.kernel.invokeFunction('convertToInteractive',\n",
              "                                                    [key], {});\n",
              "        if (!dataTable) return;\n",
              "\n",
              "        const docLinkHtml = 'Like what you see? Visit the ' +\n",
              "          '<a target=\"_blank\" href=https://colab.research.google.com/notebooks/data_table.ipynb>data table notebook</a>'\n",
              "          + ' to learn more about interactive tables.';\n",
              "        element.innerHTML = '';\n",
              "        dataTable['output_type'] = 'display_data';\n",
              "        await google.colab.output.renderOutput(dataTable, element);\n",
              "        const docLink = document.createElement('div');\n",
              "        docLink.innerHTML = docLinkHtml;\n",
              "        element.appendChild(docLink);\n",
              "      }\n",
              "    </script>\n",
              "  </div>\n",
              "\n",
              "\n",
              "    </div>\n",
              "  </div>\n"
            ],
            "application/vnd.google.colaboratory.intrinsic+json": {
              "type": "dataframe",
              "repr_error": "'str' object has no attribute 'empty'"
            }
          },
          "metadata": {},
          "execution_count": 37
        }
      ]
    },
    {
      "cell_type": "markdown",
      "source": [
        "6. Quantos chamados com o subtipo \"Perturbação do sossego\" foram abertos desde 01/01/2022 até 31/12/2023 (incluindo extremidades)?\n",
        "\n",
        "  R:"
      ],
      "metadata": {
        "id": "PN5-WEYsBpX6"
      }
    },
    {
      "cell_type": "code",
      "source": [
        "# Filtrando o df para identificar a quantidade de chamados com o subtipo 'Perturbação do sossego'\n",
        "df_chamados['subtipo'].loc[(df_chamados.data_inicio >= '2022-01-01') &\n",
        " (df_chamados.data_inicio <= '2023-12-31') & (df_chamados.subtipo == 'Perturbação do sossego')].count()"
      ],
      "metadata": {
        "id": "jOe68k-4Bt_b",
        "colab": {
          "base_uri": "https://localhost:8080/"
        },
        "outputId": "665af3fb-2876-4592-fb55-d32a1ac9338b"
      },
      "execution_count": null,
      "outputs": [
        {
          "output_type": "execute_result",
          "data": {
            "text/plain": [
              "42408"
            ]
          },
          "metadata": {},
          "execution_count": 57
        }
      ]
    },
    {
      "cell_type": "markdown",
      "source": [
        "7. Selecione os chamados com esse subtipo que foram abertos durante os eventos contidos na tabela de eventos (Reveillon, Carnaval e Rock in Rio)."
      ],
      "metadata": {
        "id": "UzWUwaH5BuYd"
      }
    },
    {
      "cell_type": "code",
      "source": [
        "# Realizando a query na tabela de eventos para criar o dataframe\n",
        "query = '''\n",
        "\n",
        "SELECT\n",
        "  *\n",
        "FROM\n",
        "  `datario.turismo_fluxo_visitantes.rede_hoteleira_ocupacao_eventos`\n",
        "\n",
        "'''\n",
        "df_eventos = bd.read_sql(query, billing_project_id=\"cellular-tide-414417\")"
      ],
      "metadata": {
        "id": "hahXcbQOBxa8",
        "colab": {
          "base_uri": "https://localhost:8080/"
        },
        "outputId": "cfa9139a-21a8-4212-ff6a-b5704200d0cb"
      },
      "execution_count": null,
      "outputs": [
        {
          "output_type": "stream",
          "name": "stderr",
          "text": [
            "Downloading: 100%|██████████| 4/4 [00:00<00:00, 18.10rows/s]\n"
          ]
        }
      ]
    },
    {
      "cell_type": "code",
      "source": [
        "# Convertando as colunas data_inicial e data_final do df de eventos para datetime\n",
        "df_eventos['data_inicial'] = pd.to_datetime(df_eventos['data_inicial'])\n",
        "df_eventos['data_final'] = pd.to_datetime(df_eventos['data_final'])"
      ],
      "metadata": {
        "id": "qJskXoJyHMNF"
      },
      "execution_count": null,
      "outputs": []
    },
    {
      "cell_type": "code",
      "source": [
        "# Selecionando os chamados com subtipo \"Perturbação do sossego\"\n",
        "df_chamados_perturbacao = df[df['subtipo'] == 'Perturbação do sossego']"
      ],
      "metadata": {
        "id": "UITxn1h-XdI_"
      },
      "execution_count": null,
      "outputs": []
    },
    {
      "cell_type": "code",
      "source": [
        "# Função que verifica se a data de início do chamado está dentro do intervalo de algum dos eventos\n",
        "def get_evento(data_inicio):\n",
        "    eventos = df_eventos[(data_inicio >= df_eventos['data_inicial']) & (data_inicio <= df_eventos['data_final'])]\n",
        "    if len(eventos) > 0:\n",
        "        return eventos.iloc[0]['evento']\n",
        "    else:\n",
        "        return None\n",
        "\n",
        "# Criando a nova coluna \"evento\" no dataframe df_chamados\n",
        "df_chamados_perturbacao['evento'] = df_chamados_perturbacao['data_inicio'].apply(get_evento)\n",
        "\n",
        "# Apresentando a seleção de chamados\n",
        "df_chamados_perturbacao = df_chamados_perturbacao.loc[~df_chamados_perturbacao.evento.isna()]\n",
        "df_chamados_perturbacao"
      ],
      "metadata": {
        "id": "TA1mtOcCXle3"
      },
      "execution_count": null,
      "outputs": []
    },
    {
      "cell_type": "markdown",
      "source": [
        "8. Quantos chamados desse subtipo foram abertos em cada evento?"
      ],
      "metadata": {
        "id": "wqWEifEDBxwD"
      }
    },
    {
      "cell_type": "code",
      "source": [
        "# Realizando um groupby por eventos no df filtrado com chamados do subtipo \"Perturbação do sossego\" df_chamados_perturbacao\n",
        "quantidade_chamados_evento = df_chamados_perturbacao.groupby(['evento'])['id_chamado'].count()\n",
        "quantidade_chamados_evento"
      ],
      "metadata": {
        "id": "_28tJxBYB1GW",
        "colab": {
          "base_uri": "https://localhost:8080/"
        },
        "outputId": "6e345195-d2cf-40ac-f67d-680601a1d7a0"
      },
      "execution_count": null,
      "outputs": [
        {
          "output_type": "execute_result",
          "data": {
            "text/plain": [
              "evento\n",
              "Carnaval       197\n",
              "Reveillon       79\n",
              "Rock in Rio    518\n",
              "Name: id_chamado, dtype: int64"
            ]
          },
          "metadata": {},
          "execution_count": 128
        }
      ]
    },
    {
      "cell_type": "markdown",
      "source": [
        "9. Qual evento teve a maior média diária de chamados abertos desse subtipo?"
      ],
      "metadata": {
        "id": "wQ2pP4WeB2_R"
      }
    },
    {
      "cell_type": "code",
      "source": [
        "# Calculando a duração de cada chamado\n",
        "duracao_chamado = df_chamados_perturbacao['data_fim'] - df_chamados_perturbacao['data_inicio']\n",
        "\n",
        "# Calculando a média diária de chamados por evento\n",
        "media_diaria = duracao_chamado.groupby(df_chamados_perturbacao['evento']).mean()\n",
        "\n",
        "# Obtendo o evento com a maior média diária\n",
        "evento_maior_media = media_diaria.idxmax()\n",
        "\n",
        "print(\"O evento com a maior média diária de chamados abertos desse subtipo é:\", evento_maior_media)"
      ],
      "metadata": {
        "colab": {
          "base_uri": "https://localhost:8080/"
        },
        "id": "m8yEyGnwfINb",
        "outputId": "f25f8c6c-478e-468f-ae80-2f06d0a60893"
      },
      "execution_count": null,
      "outputs": [
        {
          "output_type": "stream",
          "name": "stdout",
          "text": [
            "O evento com a maior média diária de chamados abertos desse subtipo é: Rock in Rio\n"
          ]
        }
      ]
    },
    {
      "cell_type": "code",
      "source": [
        "df_chamados_perturbacao2 = df_chamados_perturbacao\n",
        "df_chamados_perturbacao2['data_formatada'] = df_chamados_perturbacao2['data_inicio'].dt.strftime('%d/%m/%Y')"
      ],
      "metadata": {
        "id": "4fwdoJbapkZe"
      },
      "execution_count": null,
      "outputs": []
    },
    {
      "cell_type": "markdown",
      "source": [
        "10. Compare as médias diárias de chamados abertos desse subtipo durante os eventos específicos (Reveillon, Carnaval e Rock in Rio) e a média diária de chamados abertos desse subtipo considerando todo o período de 01/01/2022 até 31/12/2023."
      ],
      "metadata": {
        "id": "e1kqstTyB43j"
      }
    },
    {
      "cell_type": "code",
      "source": [],
      "metadata": {
        "id": "MUZLBaiEB8yJ"
      },
      "execution_count": null,
      "outputs": []
    }
  ]
}