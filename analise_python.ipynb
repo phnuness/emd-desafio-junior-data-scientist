{
  "nbformat": 4,
  "nbformat_minor": 0,
  "metadata": {
    "colab": {
      "provenance": [],
      "toc_visible": true,
      "authorship_tag": "ABX9TyOa2nlKCAuIxCf3DWnt2JHj",
      "include_colab_link": true
    },
    "kernelspec": {
      "name": "python3",
      "display_name": "Python 3"
    },
    "language_info": {
      "name": "python"
    }
  },
  "cells": [
    {
      "cell_type": "markdown",
      "metadata": {
        "id": "view-in-github",
        "colab_type": "text"
      },
      "source": [
        "<a href=\"https://colab.research.google.com/github/phnuness/emd-desafio-junior-data-scientist/blob/main/analise_python.ipynb\" target=\"_parent\"><img src=\"https://colab.research.google.com/assets/colab-badge.svg\" alt=\"Open In Colab\"/></a>"
      ]
    },
    {
      "cell_type": "code",
      "source": [
        "pip install basedosdados --use-deprecated=legacy-resolver\n"
      ],
      "metadata": {
        "id": "1iVv91F-A_Qs"
      },
      "execution_count": null,
      "outputs": []
    },
    {
      "cell_type": "code",
      "source": [
        "# Importando a biblioteca\n",
        "import basedosdados as bd\n",
        "import pandas as pd"
      ],
      "metadata": {
        "id": "GgEeILCVBbkh"
      },
      "execution_count": 2,
      "outputs": []
    },
    {
      "cell_type": "code",
      "source": [
        "# Realizando a query na tabela de chamados para criar o dataframe\n",
        "query = '''\n",
        "\n",
        "SELECT\n",
        "  id_chamado, data_inicio, data_fim, id_bairro, tipo, subtipo\n",
        "FROM\n",
        "  `datario.administracao_servicos_publicos.chamado_1746`\n",
        "\n",
        "'''\n",
        "df_chamados = bd.read_sql(query, billing_project_id=\"cellular-tide-414417\")"
      ],
      "metadata": {
        "colab": {
          "base_uri": "https://localhost:8080/"
        },
        "id": "fN6x0zDXPmeg",
        "outputId": "abe2f416-4091-4115-b566-c416977242b8"
      },
      "execution_count": 3,
      "outputs": [
        {
          "output_type": "stream",
          "name": "stderr",
          "text": [
            "Downloading: 100%|██████████| 10742832/10742832 [16:16<00:00, 11003.41rows/s]\n"
          ]
        }
      ]
    },
    {
      "cell_type": "code",
      "source": [
        "df_chamados.head()"
      ],
      "metadata": {
        "id": "dMydzC9dNxD4"
      },
      "execution_count": null,
      "outputs": []
    },
    {
      "cell_type": "code",
      "source": [
        "df_chamados.info()"
      ],
      "metadata": {
        "id": "8Nke48cc8ybb"
      },
      "execution_count": null,
      "outputs": []
    },
    {
      "cell_type": "markdown",
      "source": [
        "1. Quantos chamados foram abertos no dia 01/04/2023?"
      ],
      "metadata": {
        "id": "0SsdA5G_niF7"
      }
    },
    {
      "cell_type": "code",
      "source": [
        "# Filtrando a quantidade de chamados abertos na data 01/04/2023\n",
        "questao_1 = len(df_chamados.loc[(df_chamados.data_inicio >= '2023-04-01') & (df_chamados.data_inicio < '2023-04-02')])\n",
        "\n",
        "print(f'No dia 01/04/2023, foram abertos um total de {questao_1} chamados.')"
      ],
      "metadata": {
        "colab": {
          "base_uri": "https://localhost:8080/"
        },
        "id": "lf877OuF9ZrC",
        "outputId": "e9ba8ec8-5455-4358-de5c-9695df9b967e"
      },
      "execution_count": 115,
      "outputs": [
        {
          "output_type": "stream",
          "name": "stdout",
          "text": [
            "No dia 01/04/2023,foram abertos um total de 73 chamados.\n"
          ]
        }
      ]
    },
    {
      "cell_type": "markdown",
      "source": [
        "2. Qual o tipo de chamado que teve mais reclamações no dia 01/04/2023?"
      ],
      "metadata": {
        "id": "SeQ1JsEqBVDo"
      }
    },
    {
      "cell_type": "code",
      "source": [
        "# Filtrando a coluna tipo para identificar o tipo com mais reclamações no dia 01/04/2023\n",
        "questao_2 = df_chamados['tipo'].loc[(df_chamados.data_inicio >= '2023-04-01') & (df_chamados.data_inicio < '2023-04-02')].value_counts().head(1)\n",
        "\n",
        "# Imprimindo o índice junto com o valor\n",
        "for index, value in questao_2.iteritems():\n",
        "    print(f\" No dia 01/04/2023 o tipo de chamado que teve mais reclamações foi {index} com {value} chamados.\")"
      ],
      "metadata": {
        "id": "wsSFBCsTATxF",
        "colab": {
          "base_uri": "https://localhost:8080/"
        },
        "outputId": "88c6939f-da22-424b-a64a-ade79d70c907"
      },
      "execution_count": 117,
      "outputs": [
        {
          "output_type": "stream",
          "name": "stdout",
          "text": [
            " No dia 01/04/2023 o tipo de chamado que teve mais reclamações foi Poluição sonora com 24 chamados.\n"
          ]
        }
      ]
    },
    {
      "cell_type": "markdown",
      "source": [
        "3. Quais os nomes dos 3 bairros que mais tiveram chamados abertos nesse dia?"
      ],
      "metadata": {
        "id": "ZNkUJ8TXBXnh"
      }
    },
    {
      "cell_type": "code",
      "source": [
        "# Realizando a query na tabela de bairros para criar o dataframe\n",
        "query = '''\n",
        "\n",
        "SELECT\n",
        "   id_bairro, subprefeitura, nome as nome_bairro\n",
        "FROM\n",
        "  `datario.dados_mestres.bairro`\n",
        "\n",
        "'''\n",
        "df_bairros = bd.read_sql(query, billing_project_id=\"cellular-tide-414417\")"
      ],
      "metadata": {
        "id": "T11Hr7xBKzI0",
        "colab": {
          "base_uri": "https://localhost:8080/"
        },
        "outputId": "c5b5b4f4-54fd-47ff-b6f1-523e695c18b2"
      },
      "execution_count": 8,
      "outputs": [
        {
          "output_type": "stream",
          "name": "stderr",
          "text": [
            "Downloading: 100%|██████████| 164/164 [00:00<00:00, 547.69rows/s]\n"
          ]
        }
      ]
    },
    {
      "cell_type": "code",
      "source": [
        "# Criando um dataframe com o join entre as tabelas chamado e bairro\n",
        "df_chamados_bairros = df_chamados[['id_chamado','data_inicio','id_bairro']].merge(df_bairros[['id_bairro', 'nome_bairro', 'subprefeitura']],\n",
        "                                                                  how='left', on='id_bairro')"
      ],
      "metadata": {
        "id": "5IjBZd-CO5gk"
      },
      "execution_count": 9,
      "outputs": []
    },
    {
      "cell_type": "code",
      "source": [
        "# Filtrando a coluna nome_bairro para identificar o bairro com mais reclamações no dia 01/04/2023\n",
        "questao_3 = df_chamados_bairros['nome_bairro'].loc[(df_chamados_bairros.data_inicio >= '2023-04-01') &\n",
        "            (df_chamados_bairros.data_inicio < '2023-04-02')].value_counts().head(3)\n",
        "\n",
        "# Imprimindo o DataFrame com formatação\n",
        "print(\"Top 3 bairros com mais chamados no dia 01/04/2023:\")\n",
        "for index, value in questao_3.iteritems():\n",
        "    print(f\"{index}: {value} chamados\")\n"
      ],
      "metadata": {
        "id": "es8TI9wxMq3U",
        "colab": {
          "base_uri": "https://localhost:8080/"
        },
        "outputId": "f5b47b8c-a975-4c79-ec21-cafbbbc0bce2"
      },
      "execution_count": 119,
      "outputs": [
        {
          "output_type": "stream",
          "name": "stdout",
          "text": [
            "Top 3 bairros com mais chamados no dia 01/04/2023:\n",
            "Engenho de Dentro: 8 chamados\n",
            "Campo Grande: 6 chamados\n",
            "Leblon: 6 chamados\n"
          ]
        }
      ]
    },
    {
      "cell_type": "markdown",
      "source": [
        "4. Qual o nome da subprefeitura com mais chamados abertos nesse dia?"
      ],
      "metadata": {
        "id": "EY7Whb8ZBbuy"
      }
    },
    {
      "cell_type": "code",
      "source": [
        "# Filtrando a coluna subprefeitura para identificar a subprefeitura com mais reclamações no dia 01/04/2023\n",
        "questao_4 = df_chamados_bairros['subprefeitura'].loc[(df_chamados_bairros.data_inicio >= '2023-04-01') &\n",
        " (df_chamados_bairros.data_inicio < '2023-04-02')].value_counts().head(1)\n",
        "\n",
        "# Imprimindo o índice junto com o valor\n",
        "for index, value in questao_4.iteritems():\n",
        "    print(f\" O nome da subprefeitura com mais chamados abertos nesse dia foi {index} com {value} chamados.\")"
      ],
      "metadata": {
        "id": "X9TInw0mBgm5",
        "colab": {
          "base_uri": "https://localhost:8080/"
        },
        "outputId": "45c3cee5-00fe-45a3-ed6f-b23f08ba216c"
      },
      "execution_count": 120,
      "outputs": [
        {
          "output_type": "stream",
          "name": "stdout",
          "text": [
            " O nome da subprefeitura com mais chamados abertos nesse dia foi Zona Norte com 25 chamados.\n"
          ]
        }
      ]
    },
    {
      "cell_type": "markdown",
      "source": [
        "5. Existe algum chamado aberto nesse dia que não foi associado a um bairro ou   subprefeitura na tabela de bairros? Se sim, por que isso acontece?"
      ],
      "metadata": {
        "id": "VWkRC_-RBg9t"
      }
    },
    {
      "cell_type": "code",
      "source": [
        "# Filtrando o df2 para identificar a se existe algum chamado aberto sem bairro ou subprefeitura definido\n",
        "questao_5 = df_chamados_bairros.loc[(df_chamados_bairros.data_inicio >= '2023-04-01') &\n",
        "            (df_chamados_bairros.data_inicio < '2023-04-02') & (df_chamados_bairros.id_bairro.isnull())]\n",
        "print('Sim, este fenômeno acontece por motivos de dados ausentes ou não informados (null)\\n\\n', questao_5)"
      ],
      "metadata": {
        "id": "gkKkyUIoBn8G",
        "colab": {
          "base_uri": "https://localhost:8080/"
        },
        "outputId": "a1dc600a-1235-49ec-b92d-291cab167c07"
      },
      "execution_count": 109,
      "outputs": [
        {
          "output_type": "stream",
          "name": "stdout",
          "text": [
            "Sim, este fenômeno acontece por motivos de dados ausentes ou não informados (null)\n",
            "\n",
            "         id_chamado         data_inicio id_bairro nome_bairro subprefeitura\n",
            "6493241   18516246 2023-04-01 00:55:38      None         NaN           NaN\n"
          ]
        }
      ]
    },
    {
      "cell_type": "markdown",
      "source": [
        "6. Quantos chamados com o subtipo \"Perturbação do sossego\" foram abertos desde 01/01/2022 até 31/12/2023 (incluindo extremidades)?"
      ],
      "metadata": {
        "id": "PN5-WEYsBpX6"
      }
    },
    {
      "cell_type": "code",
      "source": [
        "# Filtrando o df para identificar a quantidade de chamados com o subtipo 'Perturbação do sossego'\n",
        "questao_6 = df_chamados['subtipo'].loc[(df_chamados.data_inicio >= '2022-01-01') &\n",
        " (df_chamados.data_inicio <= '2023-12-31') & (df_chamados.subtipo == 'Perturbação do sossego')].count()\n",
        "\n",
        "print(f\"Entre 01/01/2022 e 31/12/2023 foram abertos {questao_6} chamados com o subtipo Perturbação do sossego\")"
      ],
      "metadata": {
        "id": "jOe68k-4Bt_b",
        "colab": {
          "base_uri": "https://localhost:8080/"
        },
        "outputId": "a86ba968-985f-499b-c7f5-dbc798ba1c36"
      },
      "execution_count": 99,
      "outputs": [
        {
          "output_type": "stream",
          "name": "stdout",
          "text": [
            "Entre 01/01/2022 e 31/12/2023 foram abertos 42408 chamados com o subtipo Perturbação do sossego\n"
          ]
        }
      ]
    },
    {
      "cell_type": "markdown",
      "source": [
        "7. Selecione os chamados com esse subtipo que foram abertos durante os eventos contidos na tabela de eventos (Reveillon, Carnaval e Rock in Rio)."
      ],
      "metadata": {
        "id": "UzWUwaH5BuYd"
      }
    },
    {
      "cell_type": "code",
      "source": [
        "# Realizando a query na tabela de eventos para criar o dataframe\n",
        "query = '''\n",
        "\n",
        "SELECT\n",
        "  *\n",
        "FROM\n",
        "  `datario.turismo_fluxo_visitantes.rede_hoteleira_ocupacao_eventos`\n",
        "\n",
        "'''\n",
        "df_eventos = bd.read_sql(query, billing_project_id=\"cellular-tide-414417\")"
      ],
      "metadata": {
        "id": "hahXcbQOBxa8",
        "colab": {
          "base_uri": "https://localhost:8080/"
        },
        "outputId": "44583273-0651-4213-bc21-dbdf9d07d721"
      },
      "execution_count": 14,
      "outputs": [
        {
          "output_type": "stream",
          "name": "stderr",
          "text": [
            "Downloading: 100%|██████████| 4/4 [00:00<00:00, 16.02rows/s]\n"
          ]
        }
      ]
    },
    {
      "cell_type": "code",
      "source": [
        "# Convertando as colunas data_inicial e data_final do df de eventos para datetime\n",
        "df_eventos['data_inicial'] = pd.to_datetime(df_eventos['data_inicial'])\n",
        "df_eventos['data_final'] = pd.to_datetime(df_eventos['data_final'])"
      ],
      "metadata": {
        "id": "qJskXoJyHMNF"
      },
      "execution_count": 16,
      "outputs": []
    },
    {
      "cell_type": "code",
      "source": [
        "# Selecionando os chamados com subtipo \"Perturbação do sossego\"\n",
        "df_chamados_perturbacao = df_chamados[df_chamados['subtipo'] == 'Perturbação do sossego']"
      ],
      "metadata": {
        "id": "UITxn1h-XdI_"
      },
      "execution_count": 17,
      "outputs": []
    },
    {
      "cell_type": "code",
      "source": [
        "# Função que verifica se a data de início do chamado está dentro do intervalo de algum dos eventos\n",
        "def get_evento(data_inicio):\n",
        "    eventos = df_eventos[(data_inicio >= df_eventos['data_inicial']) & (data_inicio <= df_eventos['data_final'])]\n",
        "    if len(eventos) > 0:\n",
        "        return eventos.iloc[0]['evento']\n",
        "    else:\n",
        "        return None\n",
        "\n",
        "# Criando a nova coluna \"evento\" no dataframe df_chamados\n",
        "df_chamados_perturbacao['evento'] = df_chamados_perturbacao['data_inicio'].apply(get_evento)\n",
        "\n",
        "# Apresentando a seleção de chamados\n",
        "df_chamados_perturbacao = df_chamados_perturbacao.loc[~df_chamados_perturbacao.evento.isna()]\n",
        "df_chamados_perturbacao"
      ],
      "metadata": {
        "id": "TA1mtOcCXle3",
        "colab": {
          "base_uri": "https://localhost:8080/",
          "height": 424
        },
        "outputId": "e737892e-6a82-4021-9f1d-c105e11f6c1d"
      },
      "execution_count": 19,
      "outputs": [
        {
          "output_type": "execute_result",
          "data": {
            "text/plain": [
              "         id_chamado         data_inicio            data_fim id_bairro  \\\n",
              "99045      18333135 2023-02-20 22:36:03 2023-02-24 08:06:30       121   \n",
              "99461      18332881 2023-02-20 19:06:17 2023-02-24 07:44:14       115   \n",
              "99462      18329965 2023-02-19 08:35:48 2023-02-27 08:50:45       128   \n",
              "99809      18331227 2023-02-19 23:05:17 2023-02-28 09:47:50        14   \n",
              "99892      17678478 2022-09-08 22:05:13 2022-09-16 10:49:16        88   \n",
              "...             ...                 ...                 ...       ...   \n",
              "10577986   17661846 2022-09-03 05:36:19 2022-09-11 08:23:44        14   \n",
              "10577987   17682500 2022-09-09 22:23:40 2022-09-17 10:37:39        20   \n",
              "10577993   17678512 2022-09-08 22:45:08 2022-09-09 05:09:59        27   \n",
              "10578210   17663444 2022-09-03 22:14:37 2022-09-11 09:52:09        24   \n",
              "10578305   17682422 2022-09-09 21:21:54 2022-09-17 11:07:10        25   \n",
              "\n",
              "                     tipo                 subtipo       evento  \n",
              "99045     Poluição sonora  Perturbação do sossego     Carnaval  \n",
              "99461     Poluição sonora  Perturbação do sossego     Carnaval  \n",
              "99462     Poluição sonora  Perturbação do sossego     Carnaval  \n",
              "99809     Poluição sonora  Perturbação do sossego     Carnaval  \n",
              "99892     Poluição sonora  Perturbação do sossego  Rock in Rio  \n",
              "...                   ...                     ...          ...  \n",
              "10577986  Poluição sonora  Perturbação do sossego  Rock in Rio  \n",
              "10577987  Poluição sonora  Perturbação do sossego  Rock in Rio  \n",
              "10577993  Poluição sonora  Perturbação do sossego  Rock in Rio  \n",
              "10578210  Poluição sonora  Perturbação do sossego  Rock in Rio  \n",
              "10578305  Poluição sonora  Perturbação do sossego  Rock in Rio  \n",
              "\n",
              "[794 rows x 7 columns]"
            ],
            "text/html": [
              "\n",
              "  <div id=\"df-2c929e07-3fa0-41db-bacb-a6fb5778155e\" class=\"colab-df-container\">\n",
              "    <div>\n",
              "<style scoped>\n",
              "    .dataframe tbody tr th:only-of-type {\n",
              "        vertical-align: middle;\n",
              "    }\n",
              "\n",
              "    .dataframe tbody tr th {\n",
              "        vertical-align: top;\n",
              "    }\n",
              "\n",
              "    .dataframe thead th {\n",
              "        text-align: right;\n",
              "    }\n",
              "</style>\n",
              "<table border=\"1\" class=\"dataframe\">\n",
              "  <thead>\n",
              "    <tr style=\"text-align: right;\">\n",
              "      <th></th>\n",
              "      <th>id_chamado</th>\n",
              "      <th>data_inicio</th>\n",
              "      <th>data_fim</th>\n",
              "      <th>id_bairro</th>\n",
              "      <th>tipo</th>\n",
              "      <th>subtipo</th>\n",
              "      <th>evento</th>\n",
              "    </tr>\n",
              "  </thead>\n",
              "  <tbody>\n",
              "    <tr>\n",
              "      <th>99045</th>\n",
              "      <td>18333135</td>\n",
              "      <td>2023-02-20 22:36:03</td>\n",
              "      <td>2023-02-24 08:06:30</td>\n",
              "      <td>121</td>\n",
              "      <td>Poluição sonora</td>\n",
              "      <td>Perturbação do sossego</td>\n",
              "      <td>Carnaval</td>\n",
              "    </tr>\n",
              "    <tr>\n",
              "      <th>99461</th>\n",
              "      <td>18332881</td>\n",
              "      <td>2023-02-20 19:06:17</td>\n",
              "      <td>2023-02-24 07:44:14</td>\n",
              "      <td>115</td>\n",
              "      <td>Poluição sonora</td>\n",
              "      <td>Perturbação do sossego</td>\n",
              "      <td>Carnaval</td>\n",
              "    </tr>\n",
              "    <tr>\n",
              "      <th>99462</th>\n",
              "      <td>18329965</td>\n",
              "      <td>2023-02-19 08:35:48</td>\n",
              "      <td>2023-02-27 08:50:45</td>\n",
              "      <td>128</td>\n",
              "      <td>Poluição sonora</td>\n",
              "      <td>Perturbação do sossego</td>\n",
              "      <td>Carnaval</td>\n",
              "    </tr>\n",
              "    <tr>\n",
              "      <th>99809</th>\n",
              "      <td>18331227</td>\n",
              "      <td>2023-02-19 23:05:17</td>\n",
              "      <td>2023-02-28 09:47:50</td>\n",
              "      <td>14</td>\n",
              "      <td>Poluição sonora</td>\n",
              "      <td>Perturbação do sossego</td>\n",
              "      <td>Carnaval</td>\n",
              "    </tr>\n",
              "    <tr>\n",
              "      <th>99892</th>\n",
              "      <td>17678478</td>\n",
              "      <td>2022-09-08 22:05:13</td>\n",
              "      <td>2022-09-16 10:49:16</td>\n",
              "      <td>88</td>\n",
              "      <td>Poluição sonora</td>\n",
              "      <td>Perturbação do sossego</td>\n",
              "      <td>Rock in Rio</td>\n",
              "    </tr>\n",
              "    <tr>\n",
              "      <th>...</th>\n",
              "      <td>...</td>\n",
              "      <td>...</td>\n",
              "      <td>...</td>\n",
              "      <td>...</td>\n",
              "      <td>...</td>\n",
              "      <td>...</td>\n",
              "      <td>...</td>\n",
              "    </tr>\n",
              "    <tr>\n",
              "      <th>10577986</th>\n",
              "      <td>17661846</td>\n",
              "      <td>2022-09-03 05:36:19</td>\n",
              "      <td>2022-09-11 08:23:44</td>\n",
              "      <td>14</td>\n",
              "      <td>Poluição sonora</td>\n",
              "      <td>Perturbação do sossego</td>\n",
              "      <td>Rock in Rio</td>\n",
              "    </tr>\n",
              "    <tr>\n",
              "      <th>10577987</th>\n",
              "      <td>17682500</td>\n",
              "      <td>2022-09-09 22:23:40</td>\n",
              "      <td>2022-09-17 10:37:39</td>\n",
              "      <td>20</td>\n",
              "      <td>Poluição sonora</td>\n",
              "      <td>Perturbação do sossego</td>\n",
              "      <td>Rock in Rio</td>\n",
              "    </tr>\n",
              "    <tr>\n",
              "      <th>10577993</th>\n",
              "      <td>17678512</td>\n",
              "      <td>2022-09-08 22:45:08</td>\n",
              "      <td>2022-09-09 05:09:59</td>\n",
              "      <td>27</td>\n",
              "      <td>Poluição sonora</td>\n",
              "      <td>Perturbação do sossego</td>\n",
              "      <td>Rock in Rio</td>\n",
              "    </tr>\n",
              "    <tr>\n",
              "      <th>10578210</th>\n",
              "      <td>17663444</td>\n",
              "      <td>2022-09-03 22:14:37</td>\n",
              "      <td>2022-09-11 09:52:09</td>\n",
              "      <td>24</td>\n",
              "      <td>Poluição sonora</td>\n",
              "      <td>Perturbação do sossego</td>\n",
              "      <td>Rock in Rio</td>\n",
              "    </tr>\n",
              "    <tr>\n",
              "      <th>10578305</th>\n",
              "      <td>17682422</td>\n",
              "      <td>2022-09-09 21:21:54</td>\n",
              "      <td>2022-09-17 11:07:10</td>\n",
              "      <td>25</td>\n",
              "      <td>Poluição sonora</td>\n",
              "      <td>Perturbação do sossego</td>\n",
              "      <td>Rock in Rio</td>\n",
              "    </tr>\n",
              "  </tbody>\n",
              "</table>\n",
              "<p>794 rows × 7 columns</p>\n",
              "</div>\n",
              "    <div class=\"colab-df-buttons\">\n",
              "\n",
              "  <div class=\"colab-df-container\">\n",
              "    <button class=\"colab-df-convert\" onclick=\"convertToInteractive('df-2c929e07-3fa0-41db-bacb-a6fb5778155e')\"\n",
              "            title=\"Convert this dataframe to an interactive table.\"\n",
              "            style=\"display:none;\">\n",
              "\n",
              "  <svg xmlns=\"http://www.w3.org/2000/svg\" height=\"24px\" viewBox=\"0 -960 960 960\">\n",
              "    <path d=\"M120-120v-720h720v720H120Zm60-500h600v-160H180v160Zm220 220h160v-160H400v160Zm0 220h160v-160H400v160ZM180-400h160v-160H180v160Zm440 0h160v-160H620v160ZM180-180h160v-160H180v160Zm440 0h160v-160H620v160Z\"/>\n",
              "  </svg>\n",
              "    </button>\n",
              "\n",
              "  <style>\n",
              "    .colab-df-container {\n",
              "      display:flex;\n",
              "      gap: 12px;\n",
              "    }\n",
              "\n",
              "    .colab-df-convert {\n",
              "      background-color: #E8F0FE;\n",
              "      border: none;\n",
              "      border-radius: 50%;\n",
              "      cursor: pointer;\n",
              "      display: none;\n",
              "      fill: #1967D2;\n",
              "      height: 32px;\n",
              "      padding: 0 0 0 0;\n",
              "      width: 32px;\n",
              "    }\n",
              "\n",
              "    .colab-df-convert:hover {\n",
              "      background-color: #E2EBFA;\n",
              "      box-shadow: 0px 1px 2px rgba(60, 64, 67, 0.3), 0px 1px 3px 1px rgba(60, 64, 67, 0.15);\n",
              "      fill: #174EA6;\n",
              "    }\n",
              "\n",
              "    .colab-df-buttons div {\n",
              "      margin-bottom: 4px;\n",
              "    }\n",
              "\n",
              "    [theme=dark] .colab-df-convert {\n",
              "      background-color: #3B4455;\n",
              "      fill: #D2E3FC;\n",
              "    }\n",
              "\n",
              "    [theme=dark] .colab-df-convert:hover {\n",
              "      background-color: #434B5C;\n",
              "      box-shadow: 0px 1px 3px 1px rgba(0, 0, 0, 0.15);\n",
              "      filter: drop-shadow(0px 1px 2px rgba(0, 0, 0, 0.3));\n",
              "      fill: #FFFFFF;\n",
              "    }\n",
              "  </style>\n",
              "\n",
              "    <script>\n",
              "      const buttonEl =\n",
              "        document.querySelector('#df-2c929e07-3fa0-41db-bacb-a6fb5778155e button.colab-df-convert');\n",
              "      buttonEl.style.display =\n",
              "        google.colab.kernel.accessAllowed ? 'block' : 'none';\n",
              "\n",
              "      async function convertToInteractive(key) {\n",
              "        const element = document.querySelector('#df-2c929e07-3fa0-41db-bacb-a6fb5778155e');\n",
              "        const dataTable =\n",
              "          await google.colab.kernel.invokeFunction('convertToInteractive',\n",
              "                                                    [key], {});\n",
              "        if (!dataTable) return;\n",
              "\n",
              "        const docLinkHtml = 'Like what you see? Visit the ' +\n",
              "          '<a target=\"_blank\" href=https://colab.research.google.com/notebooks/data_table.ipynb>data table notebook</a>'\n",
              "          + ' to learn more about interactive tables.';\n",
              "        element.innerHTML = '';\n",
              "        dataTable['output_type'] = 'display_data';\n",
              "        await google.colab.output.renderOutput(dataTable, element);\n",
              "        const docLink = document.createElement('div');\n",
              "        docLink.innerHTML = docLinkHtml;\n",
              "        element.appendChild(docLink);\n",
              "      }\n",
              "    </script>\n",
              "  </div>\n",
              "\n",
              "\n",
              "<div id=\"df-ceff4415-0055-4752-9b12-b728e3cec593\">\n",
              "  <button class=\"colab-df-quickchart\" onclick=\"quickchart('df-ceff4415-0055-4752-9b12-b728e3cec593')\"\n",
              "            title=\"Suggest charts\"\n",
              "            style=\"display:none;\">\n",
              "\n",
              "<svg xmlns=\"http://www.w3.org/2000/svg\" height=\"24px\"viewBox=\"0 0 24 24\"\n",
              "     width=\"24px\">\n",
              "    <g>\n",
              "        <path d=\"M19 3H5c-1.1 0-2 .9-2 2v14c0 1.1.9 2 2 2h14c1.1 0 2-.9 2-2V5c0-1.1-.9-2-2-2zM9 17H7v-7h2v7zm4 0h-2V7h2v10zm4 0h-2v-4h2v4z\"/>\n",
              "    </g>\n",
              "</svg>\n",
              "  </button>\n",
              "\n",
              "<style>\n",
              "  .colab-df-quickchart {\n",
              "      --bg-color: #E8F0FE;\n",
              "      --fill-color: #1967D2;\n",
              "      --hover-bg-color: #E2EBFA;\n",
              "      --hover-fill-color: #174EA6;\n",
              "      --disabled-fill-color: #AAA;\n",
              "      --disabled-bg-color: #DDD;\n",
              "  }\n",
              "\n",
              "  [theme=dark] .colab-df-quickchart {\n",
              "      --bg-color: #3B4455;\n",
              "      --fill-color: #D2E3FC;\n",
              "      --hover-bg-color: #434B5C;\n",
              "      --hover-fill-color: #FFFFFF;\n",
              "      --disabled-bg-color: #3B4455;\n",
              "      --disabled-fill-color: #666;\n",
              "  }\n",
              "\n",
              "  .colab-df-quickchart {\n",
              "    background-color: var(--bg-color);\n",
              "    border: none;\n",
              "    border-radius: 50%;\n",
              "    cursor: pointer;\n",
              "    display: none;\n",
              "    fill: var(--fill-color);\n",
              "    height: 32px;\n",
              "    padding: 0;\n",
              "    width: 32px;\n",
              "  }\n",
              "\n",
              "  .colab-df-quickchart:hover {\n",
              "    background-color: var(--hover-bg-color);\n",
              "    box-shadow: 0 1px 2px rgba(60, 64, 67, 0.3), 0 1px 3px 1px rgba(60, 64, 67, 0.15);\n",
              "    fill: var(--button-hover-fill-color);\n",
              "  }\n",
              "\n",
              "  .colab-df-quickchart-complete:disabled,\n",
              "  .colab-df-quickchart-complete:disabled:hover {\n",
              "    background-color: var(--disabled-bg-color);\n",
              "    fill: var(--disabled-fill-color);\n",
              "    box-shadow: none;\n",
              "  }\n",
              "\n",
              "  .colab-df-spinner {\n",
              "    border: 2px solid var(--fill-color);\n",
              "    border-color: transparent;\n",
              "    border-bottom-color: var(--fill-color);\n",
              "    animation:\n",
              "      spin 1s steps(1) infinite;\n",
              "  }\n",
              "\n",
              "  @keyframes spin {\n",
              "    0% {\n",
              "      border-color: transparent;\n",
              "      border-bottom-color: var(--fill-color);\n",
              "      border-left-color: var(--fill-color);\n",
              "    }\n",
              "    20% {\n",
              "      border-color: transparent;\n",
              "      border-left-color: var(--fill-color);\n",
              "      border-top-color: var(--fill-color);\n",
              "    }\n",
              "    30% {\n",
              "      border-color: transparent;\n",
              "      border-left-color: var(--fill-color);\n",
              "      border-top-color: var(--fill-color);\n",
              "      border-right-color: var(--fill-color);\n",
              "    }\n",
              "    40% {\n",
              "      border-color: transparent;\n",
              "      border-right-color: var(--fill-color);\n",
              "      border-top-color: var(--fill-color);\n",
              "    }\n",
              "    60% {\n",
              "      border-color: transparent;\n",
              "      border-right-color: var(--fill-color);\n",
              "    }\n",
              "    80% {\n",
              "      border-color: transparent;\n",
              "      border-right-color: var(--fill-color);\n",
              "      border-bottom-color: var(--fill-color);\n",
              "    }\n",
              "    90% {\n",
              "      border-color: transparent;\n",
              "      border-bottom-color: var(--fill-color);\n",
              "    }\n",
              "  }\n",
              "</style>\n",
              "\n",
              "  <script>\n",
              "    async function quickchart(key) {\n",
              "      const quickchartButtonEl =\n",
              "        document.querySelector('#' + key + ' button');\n",
              "      quickchartButtonEl.disabled = true;  // To prevent multiple clicks.\n",
              "      quickchartButtonEl.classList.add('colab-df-spinner');\n",
              "      try {\n",
              "        const charts = await google.colab.kernel.invokeFunction(\n",
              "            'suggestCharts', [key], {});\n",
              "      } catch (error) {\n",
              "        console.error('Error during call to suggestCharts:', error);\n",
              "      }\n",
              "      quickchartButtonEl.classList.remove('colab-df-spinner');\n",
              "      quickchartButtonEl.classList.add('colab-df-quickchart-complete');\n",
              "    }\n",
              "    (() => {\n",
              "      let quickchartButtonEl =\n",
              "        document.querySelector('#df-ceff4415-0055-4752-9b12-b728e3cec593 button');\n",
              "      quickchartButtonEl.style.display =\n",
              "        google.colab.kernel.accessAllowed ? 'block' : 'none';\n",
              "    })();\n",
              "  </script>\n",
              "</div>\n",
              "\n",
              "  <div id=\"id_2f9703b8-0010-4833-91de-8c1e00ec968f\">\n",
              "    <style>\n",
              "      .colab-df-generate {\n",
              "        background-color: #E8F0FE;\n",
              "        border: none;\n",
              "        border-radius: 50%;\n",
              "        cursor: pointer;\n",
              "        display: none;\n",
              "        fill: #1967D2;\n",
              "        height: 32px;\n",
              "        padding: 0 0 0 0;\n",
              "        width: 32px;\n",
              "      }\n",
              "\n",
              "      .colab-df-generate:hover {\n",
              "        background-color: #E2EBFA;\n",
              "        box-shadow: 0px 1px 2px rgba(60, 64, 67, 0.3), 0px 1px 3px 1px rgba(60, 64, 67, 0.15);\n",
              "        fill: #174EA6;\n",
              "      }\n",
              "\n",
              "      [theme=dark] .colab-df-generate {\n",
              "        background-color: #3B4455;\n",
              "        fill: #D2E3FC;\n",
              "      }\n",
              "\n",
              "      [theme=dark] .colab-df-generate:hover {\n",
              "        background-color: #434B5C;\n",
              "        box-shadow: 0px 1px 3px 1px rgba(0, 0, 0, 0.15);\n",
              "        filter: drop-shadow(0px 1px 2px rgba(0, 0, 0, 0.3));\n",
              "        fill: #FFFFFF;\n",
              "      }\n",
              "    </style>\n",
              "    <button class=\"colab-df-generate\" onclick=\"generateWithVariable('df_chamados_perturbacao')\"\n",
              "            title=\"Generate code using this dataframe.\"\n",
              "            style=\"display:none;\">\n",
              "\n",
              "  <svg xmlns=\"http://www.w3.org/2000/svg\" height=\"24px\"viewBox=\"0 0 24 24\"\n",
              "       width=\"24px\">\n",
              "    <path d=\"M7,19H8.4L18.45,9,17,7.55,7,17.6ZM5,21V16.75L18.45,3.32a2,2,0,0,1,2.83,0l1.4,1.43a1.91,1.91,0,0,1,.58,1.4,1.91,1.91,0,0,1-.58,1.4L9.25,21ZM18.45,9,17,7.55Zm-12,3A5.31,5.31,0,0,0,4.9,8.1,5.31,5.31,0,0,0,1,6.5,5.31,5.31,0,0,0,4.9,4.9,5.31,5.31,0,0,0,6.5,1,5.31,5.31,0,0,0,8.1,4.9,5.31,5.31,0,0,0,12,6.5,5.46,5.46,0,0,0,6.5,12Z\"/>\n",
              "  </svg>\n",
              "    </button>\n",
              "    <script>\n",
              "      (() => {\n",
              "      const buttonEl =\n",
              "        document.querySelector('#id_2f9703b8-0010-4833-91de-8c1e00ec968f button.colab-df-generate');\n",
              "      buttonEl.style.display =\n",
              "        google.colab.kernel.accessAllowed ? 'block' : 'none';\n",
              "\n",
              "      buttonEl.onclick = () => {\n",
              "        google.colab.notebook.generateWithVariable('df_chamados_perturbacao');\n",
              "      }\n",
              "      })();\n",
              "    </script>\n",
              "  </div>\n",
              "\n",
              "    </div>\n",
              "  </div>\n"
            ],
            "application/vnd.google.colaboratory.intrinsic+json": {
              "type": "dataframe",
              "variable_name": "df_chamados_perturbacao",
              "summary": "{\n  \"name\": \"df_chamados_perturbacao\",\n  \"rows\": 794,\n  \"fields\": [\n    {\n      \"column\": \"id_chamado\",\n      \"properties\": {\n        \"dtype\": \"string\",\n        \"num_unique_values\": 794,\n        \"samples\": [\n          \"17684203\",\n          \"17658257\",\n          \"17684353\"\n        ],\n        \"semantic_type\": \"\",\n        \"description\": \"\"\n      }\n    },\n    {\n      \"column\": \"data_inicio\",\n      \"properties\": {\n        \"dtype\": \"date\",\n        \"min\": \"2022-09-02 00:00:50\",\n        \"max\": \"2023-02-20 23:49:58\",\n        \"num_unique_values\": 793,\n        \"samples\": [\n          \"2022-09-10 20:04:05\",\n          \"2022-09-03 23:24:48\",\n          \"2023-02-18 05:23:18\"\n        ],\n        \"semantic_type\": \"\",\n        \"description\": \"\"\n      }\n    },\n    {\n      \"column\": \"data_fim\",\n      \"properties\": {\n        \"dtype\": \"date\",\n        \"min\": \"2022-09-02 04:08:22\",\n        \"max\": \"2023-02-28 10:27:40\",\n        \"num_unique_values\": 745,\n        \"samples\": [\n          \"2023-02-28 09:58:58\",\n          \"2022-09-15 16:34:37\",\n          \"2022-09-03 05:04:54\"\n        ],\n        \"semantic_type\": \"\",\n        \"description\": \"\"\n      }\n    },\n    {\n      \"column\": \"id_bairro\",\n      \"properties\": {\n        \"dtype\": \"category\",\n        \"num_unique_values\": 114,\n        \"samples\": [\n          \"79\",\n          \"88\",\n          \"69\"\n        ],\n        \"semantic_type\": \"\",\n        \"description\": \"\"\n      }\n    },\n    {\n      \"column\": \"tipo\",\n      \"properties\": {\n        \"dtype\": \"category\",\n        \"num_unique_values\": 1,\n        \"samples\": [\n          \"Polui\\u00e7\\u00e3o sonora\"\n        ],\n        \"semantic_type\": \"\",\n        \"description\": \"\"\n      }\n    },\n    {\n      \"column\": \"subtipo\",\n      \"properties\": {\n        \"dtype\": \"category\",\n        \"num_unique_values\": 1,\n        \"samples\": [\n          \"Perturba\\u00e7\\u00e3o do sossego\"\n        ],\n        \"semantic_type\": \"\",\n        \"description\": \"\"\n      }\n    },\n    {\n      \"column\": \"evento\",\n      \"properties\": {\n        \"dtype\": \"category\",\n        \"num_unique_values\": 3,\n        \"samples\": [\n          \"Carnaval\"\n        ],\n        \"semantic_type\": \"\",\n        \"description\": \"\"\n      }\n    }\n  ]\n}"
            }
          },
          "metadata": {},
          "execution_count": 19
        }
      ]
    },
    {
      "cell_type": "markdown",
      "source": [
        "8. Quantos chamados desse subtipo foram abertos em cada evento?"
      ],
      "metadata": {
        "id": "wqWEifEDBxwD"
      }
    },
    {
      "cell_type": "code",
      "source": [
        "# Realizando um groupby por eventos no df filtrado com chamados do subtipo \"Perturbação do sossego\" df_chamados_perturbacao\n",
        "quantidade_chamados_evento = pd.DataFrame(df_chamados_perturbacao.groupby(['evento'])['id_chamado'].count()).rename(columns={'id_chamado': 'qnt_chamados'}).reset_index()\n",
        "\n",
        "# Imprimindo o DataFrame com formatação\n",
        "print(\"Quantidade de chamados abertos por evento:\")\n",
        "for index, row in quantidade_chamados_evento.iterrows():\n",
        "    print(f\"{row['evento']}: {row['qnt_chamados']} chamados\")"
      ],
      "metadata": {
        "id": "_28tJxBYB1GW",
        "colab": {
          "base_uri": "https://localhost:8080/"
        },
        "outputId": "ef62e4ee-a9dd-4d37-f13a-938bc15fbd88"
      },
      "execution_count": 97,
      "outputs": [
        {
          "output_type": "stream",
          "name": "stdout",
          "text": [
            "Quantidade de chamados abertos por evento:\n",
            "Carnaval: 197 chamados\n",
            "Reveillon: 79 chamados\n",
            "Rock in Rio: 518 chamados\n"
          ]
        }
      ]
    },
    {
      "cell_type": "markdown",
      "source": [
        "9. Qual evento teve a maior média diária de chamados abertos desse subtipo?"
      ],
      "metadata": {
        "id": "wQ2pP4WeB2_R"
      }
    },
    {
      "cell_type": "code",
      "source": [
        "from datetime import timedelta\n",
        "# Calculando a duração de cada evento\n",
        "df_eventos['dias_evento'] = ((df_eventos['data_final'] - df_eventos['data_inicial']) + timedelta(days=1)).dt.days\n",
        "duracao_eventos = pd.DataFrame(df_eventos.groupby(df_eventos['evento'])['dias_evento'].sum()).reset_index()\n",
        "\n",
        "# Calculando a média diária de chamados por evento\n",
        "media_diaria = pd.merge(quantidade_chamados_evento, duracao_eventos, on='evento')\n",
        "media_diaria['media_chamados_por_dia'] = media_diaria['qnt_chamados'] / media_diaria['dias_evento']\n",
        "\n",
        "print(f\"O evento com a maior média diária de chamados abertos desse subtipo é o: {media_diaria['evento'].max()} \")"
      ],
      "metadata": {
        "colab": {
          "base_uri": "https://localhost:8080/"
        },
        "id": "9PQof35gTvVL",
        "outputId": "6bec55a5-c02a-4e37-d7f2-a98749e356f3"
      },
      "execution_count": 94,
      "outputs": [
        {
          "output_type": "stream",
          "name": "stdout",
          "text": [
            "O evento com a maior média diária de chamados abertos desse subtipo é o: Rock in Rio \n"
          ]
        }
      ]
    },
    {
      "cell_type": "markdown",
      "source": [
        "10. Compare as médias diárias de chamados abertos desse subtipo durante os eventos específicos (Reveillon, Carnaval e Rock in Rio) e a média diária de chamados abertos desse subtipo considerando todo o período de 01/01/2022 até 31/12/2023."
      ],
      "metadata": {
        "id": "e1kqstTyB43j"
      }
    },
    {
      "cell_type": "code",
      "source": [],
      "metadata": {
        "id": "MUZLBaiEB8yJ"
      },
      "execution_count": null,
      "outputs": []
    }
  ]
}